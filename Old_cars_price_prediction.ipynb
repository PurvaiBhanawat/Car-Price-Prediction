{
 "cells": [
  {
   "cell_type": "markdown",
   "metadata": {
    "id": "qxQH_YOSrvNR"
   },
   "source": [
    "#Importing Libraries"
   ]
  },
  {
   "cell_type": "code",
   "execution_count": 387,
   "metadata": {
    "id": "eUZbRLfCTUea"
   },
   "outputs": [],
   "source": [
    "import numpy as np\n",
    "import pandas as pd\n",
    "import matplotlib.pyplot as plt\n",
    "import seaborn as sns\n",
    "%matplotlib inline"
   ]
  },
  {
   "cell_type": "markdown",
   "metadata": {
    "id": "XAejBWrDrz0n"
   },
   "source": [
    "#Loading Train data"
   ]
  },
  {
   "cell_type": "code",
   "execution_count": 388,
   "metadata": {
    "id": "gdE5qhEfT_Yy"
   },
   "outputs": [],
   "source": [
    "df=pd.read_csv('train.csv')\n"
   ]
  },
  {
   "cell_type": "code",
   "execution_count": 389,
   "metadata": {
    "colab": {
     "base_uri": "https://localhost:8080/",
     "height": 308
    },
    "id": "G4YyTC1jUOAS",
    "outputId": "0241a185-519a-4340-c51a-6c896734d6ad"
   },
   "outputs": [
    {
     "data": {
      "text/html": [
       "<div>\n",
       "<style scoped>\n",
       "    .dataframe tbody tr th:only-of-type {\n",
       "        vertical-align: middle;\n",
       "    }\n",
       "\n",
       "    .dataframe tbody tr th {\n",
       "        vertical-align: top;\n",
       "    }\n",
       "\n",
       "    .dataframe thead th {\n",
       "        text-align: right;\n",
       "    }\n",
       "</style>\n",
       "<table border=\"1\" class=\"dataframe\">\n",
       "  <thead>\n",
       "    <tr style=\"text-align: right;\">\n",
       "      <th></th>\n",
       "      <th>id</th>\n",
       "      <th>car_name</th>\n",
       "      <th>yr_mfr</th>\n",
       "      <th>fuel_type</th>\n",
       "      <th>kms_run</th>\n",
       "      <th>sale_price</th>\n",
       "      <th>city</th>\n",
       "      <th>times_viewed</th>\n",
       "      <th>body_type</th>\n",
       "      <th>transmission</th>\n",
       "      <th>variant</th>\n",
       "      <th>assured_buy</th>\n",
       "      <th>registered_city</th>\n",
       "      <th>registered_state</th>\n",
       "      <th>is_hot</th>\n",
       "      <th>rto</th>\n",
       "      <th>source</th>\n",
       "      <th>make</th>\n",
       "      <th>model</th>\n",
       "      <th>car_availability</th>\n",
       "      <th>total_owners</th>\n",
       "      <th>broker_quote</th>\n",
       "      <th>original_price</th>\n",
       "      <th>car_rating</th>\n",
       "      <th>ad_created_on</th>\n",
       "      <th>fitness_certificate</th>\n",
       "      <th>emi_starts_from</th>\n",
       "      <th>booking_down_pymnt</th>\n",
       "      <th>reserved</th>\n",
       "      <th>warranty_avail</th>\n",
       "    </tr>\n",
       "  </thead>\n",
       "  <tbody>\n",
       "    <tr>\n",
       "      <th>0</th>\n",
       "      <td>1</td>\n",
       "      <td>maruti swift</td>\n",
       "      <td>2015</td>\n",
       "      <td>petrol</td>\n",
       "      <td>8063</td>\n",
       "      <td>386399</td>\n",
       "      <td>noida</td>\n",
       "      <td>18715</td>\n",
       "      <td>hatchback</td>\n",
       "      <td>manual</td>\n",
       "      <td>lxi opt</td>\n",
       "      <td>True</td>\n",
       "      <td>delhi</td>\n",
       "      <td>delhi</td>\n",
       "      <td>True</td>\n",
       "      <td>dl6c</td>\n",
       "      <td>inperson_sale</td>\n",
       "      <td>maruti</td>\n",
       "      <td>swift</td>\n",
       "      <td>in_stock</td>\n",
       "      <td>2</td>\n",
       "      <td>397677</td>\n",
       "      <td>404177.0</td>\n",
       "      <td>great</td>\n",
       "      <td>2021-04-04T07:09:18.583</td>\n",
       "      <td>True</td>\n",
       "      <td>8975</td>\n",
       "      <td>57960</td>\n",
       "      <td>False</td>\n",
       "      <td>False</td>\n",
       "    </tr>\n",
       "    <tr>\n",
       "      <th>1</th>\n",
       "      <td>2</td>\n",
       "      <td>maruti alto 800</td>\n",
       "      <td>2016</td>\n",
       "      <td>petrol</td>\n",
       "      <td>23104</td>\n",
       "      <td>265499</td>\n",
       "      <td>noida</td>\n",
       "      <td>2676</td>\n",
       "      <td>hatchback</td>\n",
       "      <td>manual</td>\n",
       "      <td>lxi</td>\n",
       "      <td>True</td>\n",
       "      <td>noida</td>\n",
       "      <td>uttar pradesh</td>\n",
       "      <td>True</td>\n",
       "      <td>up16</td>\n",
       "      <td>inperson_sale</td>\n",
       "      <td>maruti</td>\n",
       "      <td>alto 800</td>\n",
       "      <td>in_stock</td>\n",
       "      <td>1</td>\n",
       "      <td>272935</td>\n",
       "      <td>354313.0</td>\n",
       "      <td>great</td>\n",
       "      <td>2021-03-22T14:07:32.833</td>\n",
       "      <td>True</td>\n",
       "      <td>6167</td>\n",
       "      <td>39825</td>\n",
       "      <td>False</td>\n",
       "      <td>False</td>\n",
       "    </tr>\n",
       "    <tr>\n",
       "      <th>2</th>\n",
       "      <td>3</td>\n",
       "      <td>hyundai grand i10</td>\n",
       "      <td>2017</td>\n",
       "      <td>petrol</td>\n",
       "      <td>23402</td>\n",
       "      <td>477699</td>\n",
       "      <td>noida</td>\n",
       "      <td>609</td>\n",
       "      <td>hatchback</td>\n",
       "      <td>manual</td>\n",
       "      <td>sports 1.2 vtvt</td>\n",
       "      <td>True</td>\n",
       "      <td>agra</td>\n",
       "      <td>uttar pradesh</td>\n",
       "      <td>True</td>\n",
       "      <td>up80</td>\n",
       "      <td>inperson_sale</td>\n",
       "      <td>hyundai</td>\n",
       "      <td>grand i10</td>\n",
       "      <td>in_stock</td>\n",
       "      <td>1</td>\n",
       "      <td>469605</td>\n",
       "      <td>NaN</td>\n",
       "      <td>great</td>\n",
       "      <td>2021-03-20T05:36:31.311</td>\n",
       "      <td>True</td>\n",
       "      <td>11096</td>\n",
       "      <td>71655</td>\n",
       "      <td>False</td>\n",
       "      <td>False</td>\n",
       "    </tr>\n",
       "    <tr>\n",
       "      <th>3</th>\n",
       "      <td>4</td>\n",
       "      <td>maruti swift</td>\n",
       "      <td>2013</td>\n",
       "      <td>diesel</td>\n",
       "      <td>39124</td>\n",
       "      <td>307999</td>\n",
       "      <td>noida</td>\n",
       "      <td>6511</td>\n",
       "      <td>hatchback</td>\n",
       "      <td>manual</td>\n",
       "      <td>vdi</td>\n",
       "      <td>True</td>\n",
       "      <td>delhi</td>\n",
       "      <td>delhi</td>\n",
       "      <td>True</td>\n",
       "      <td>dl1c</td>\n",
       "      <td>inperson_sale</td>\n",
       "      <td>maruti</td>\n",
       "      <td>swift</td>\n",
       "      <td>in_stock</td>\n",
       "      <td>1</td>\n",
       "      <td>294262</td>\n",
       "      <td>374326.0</td>\n",
       "      <td>great</td>\n",
       "      <td>2021-01-21T12:59:19.299</td>\n",
       "      <td>True</td>\n",
       "      <td>7154</td>\n",
       "      <td>46200</td>\n",
       "      <td>False</td>\n",
       "      <td>False</td>\n",
       "    </tr>\n",
       "    <tr>\n",
       "      <th>4</th>\n",
       "      <td>5</td>\n",
       "      <td>hyundai grand i10</td>\n",
       "      <td>2015</td>\n",
       "      <td>petrol</td>\n",
       "      <td>22116</td>\n",
       "      <td>361499</td>\n",
       "      <td>noida</td>\n",
       "      <td>3225</td>\n",
       "      <td>hatchback</td>\n",
       "      <td>manual</td>\n",
       "      <td>magna 1.2 vtvt</td>\n",
       "      <td>False</td>\n",
       "      <td>new delhi</td>\n",
       "      <td>delhi</td>\n",
       "      <td>True</td>\n",
       "      <td>dl12</td>\n",
       "      <td>inperson_sale</td>\n",
       "      <td>hyundai</td>\n",
       "      <td>grand i10</td>\n",
       "      <td>in_stock</td>\n",
       "      <td>1</td>\n",
       "      <td>360716</td>\n",
       "      <td>367216.0</td>\n",
       "      <td>great</td>\n",
       "      <td>2021-04-01T13:33:40.733</td>\n",
       "      <td>True</td>\n",
       "      <td>8397</td>\n",
       "      <td>54225</td>\n",
       "      <td>False</td>\n",
       "      <td>False</td>\n",
       "    </tr>\n",
       "  </tbody>\n",
       "</table>\n",
       "</div>"
      ],
      "text/plain": [
       "   id           car_name  yr_mfr  ... booking_down_pymnt  reserved  warranty_avail\n",
       "0   1       maruti swift    2015  ...              57960     False           False\n",
       "1   2    maruti alto 800    2016  ...              39825     False           False\n",
       "2   3  hyundai grand i10    2017  ...              71655     False           False\n",
       "3   4       maruti swift    2013  ...              46200     False           False\n",
       "4   5  hyundai grand i10    2015  ...              54225     False           False\n",
       "\n",
       "[5 rows x 30 columns]"
      ]
     },
     "execution_count": 389,
     "metadata": {
      "tags": []
     },
     "output_type": "execute_result"
    }
   ],
   "source": [
    "df.head()"
   ]
  },
  {
   "cell_type": "code",
   "execution_count": 390,
   "metadata": {
    "colab": {
     "base_uri": "https://localhost:8080/"
    },
    "id": "I0pDucDgUWmU",
    "outputId": "2df35abe-5722-4d3c-928b-0fdeaae8b223"
   },
   "outputs": [
    {
     "data": {
      "text/plain": [
       "(6399, 30)"
      ]
     },
     "execution_count": 390,
     "metadata": {
      "tags": []
     },
     "output_type": "execute_result"
    }
   ],
   "source": [
    "df.shape #to know rows and columns"
   ]
  },
  {
   "cell_type": "code",
   "execution_count": 391,
   "metadata": {
    "colab": {
     "base_uri": "https://localhost:8080/"
    },
    "id": "IrJtQycXUbAT",
    "outputId": "0c85ebce-8835-412b-eda8-2d9e11b18eb7"
   },
   "outputs": [
    {
     "data": {
      "text/plain": [
       "Index(['id', 'car_name', 'yr_mfr', 'fuel_type', 'kms_run', 'sale_price',\n",
       "       'city', 'times_viewed', 'body_type', 'transmission', 'variant',\n",
       "       'assured_buy', 'registered_city', 'registered_state', 'is_hot', 'rto',\n",
       "       'source', 'make', 'model', 'car_availability', 'total_owners',\n",
       "       'broker_quote', 'original_price', 'car_rating', 'ad_created_on',\n",
       "       'fitness_certificate', 'emi_starts_from', 'booking_down_pymnt',\n",
       "       'reserved', 'warranty_avail'],\n",
       "      dtype='object')"
      ]
     },
     "execution_count": 391,
     "metadata": {
      "tags": []
     },
     "output_type": "execute_result"
    }
   ],
   "source": [
    "df.columns #column names"
   ]
  },
  {
   "cell_type": "markdown",
   "metadata": {
    "id": "NSHwm7Fmr9l_"
   },
   "source": [
    "**value count**"
   ]
  },
  {
   "cell_type": "code",
   "execution_count": 392,
   "metadata": {
    "colab": {
     "base_uri": "https://localhost:8080/"
    },
    "id": "xLX9kLzMS91w",
    "outputId": "4b50a000-98da-44d9-f9fc-6f1a0e0905ab"
   },
   "outputs": [
    {
     "data": {
      "text/plain": [
       "maruti swift                478\n",
       "maruti swift dzire          332\n",
       "hyundai i10                 330\n",
       "maruti wagon r 1.0          292\n",
       "hyundai grand i10           246\n",
       "                           ... \n",
       "tata manza                    1\n",
       "mahindra verito               1\n",
       "datsun go                     1\n",
       "hyundai sonata transform      1\n",
       "tata indigo ecs               1\n",
       "Name: car_name, Length: 182, dtype: int64"
      ]
     },
     "execution_count": 392,
     "metadata": {
      "tags": []
     },
     "output_type": "execute_result"
    }
   ],
   "source": [
    "df['car_name'].value_counts()"
   ]
  },
  {
   "cell_type": "code",
   "execution_count": 393,
   "metadata": {
    "colab": {
     "base_uri": "https://localhost:8080/"
    },
    "id": "HVxsYmF_TGOF",
    "outputId": "f99cd602-426b-4cef-ad4b-00e3f4cb1948"
   },
   "outputs": [
    {
     "data": {
      "text/plain": [
       "mumbai       1144\n",
       "bengaluru    1069\n",
       "new delhi     986\n",
       "pune          670\n",
       "chennai       627\n",
       "hyderabad     549\n",
       "ahmedabad     354\n",
       "gurgaon       313\n",
       "noida         277\n",
       "ghaziabad     194\n",
       "faridabad     102\n",
       "lucknow        91\n",
       "kolkata        23\n",
       "Name: city, dtype: int64"
      ]
     },
     "execution_count": 393,
     "metadata": {
      "tags": []
     },
     "output_type": "execute_result"
    }
   ],
   "source": [
    "df['city'].value_counts()"
   ]
  },
  {
   "cell_type": "code",
   "execution_count": 394,
   "metadata": {
    "colab": {
     "base_uri": "https://localhost:8080/"
    },
    "id": "pBklCz9JTQ5y",
    "outputId": "01836f32-f3ca-4af3-8542-e298bbbc0ec2"
   },
   "outputs": [
    {
     "data": {
      "text/plain": [
       "300000    20\n",
       "350000    14\n",
       "250000    14\n",
       "150000    13\n",
       "400000    12\n",
       "          ..\n",
       "396199     1\n",
       "779199     1\n",
       "489199     1\n",
       "401999     1\n",
       "711999     1\n",
       "Name: sale_price, Length: 4118, dtype: int64"
      ]
     },
     "execution_count": 394,
     "metadata": {
      "tags": []
     },
     "output_type": "execute_result"
    }
   ],
   "source": [
    "df['sale_price'].value_counts()"
   ]
  },
  {
   "cell_type": "code",
   "execution_count": 395,
   "metadata": {
    "colab": {
     "base_uri": "https://localhost:8080/"
    },
    "id": "apohs9FEUc_J",
    "outputId": "5e08c69c-923b-41b9-d8b9-3c16895de24b"
   },
   "outputs": [
    {
     "name": "stdout",
     "output_type": "stream",
     "text": [
      "<class 'pandas.core.frame.DataFrame'>\n",
      "RangeIndex: 6399 entries, 0 to 6398\n",
      "Data columns (total 30 columns):\n",
      " #   Column               Non-Null Count  Dtype  \n",
      "---  ------               --------------  -----  \n",
      " 0   id                   6399 non-null   int64  \n",
      " 1   car_name             6399 non-null   object \n",
      " 2   yr_mfr               6399 non-null   int64  \n",
      " 3   fuel_type            6399 non-null   object \n",
      " 4   kms_run              6399 non-null   int64  \n",
      " 5   sale_price           6399 non-null   int64  \n",
      " 6   city                 6399 non-null   object \n",
      " 7   times_viewed         6399 non-null   int64  \n",
      " 8   body_type            6309 non-null   object \n",
      " 9   transmission         5925 non-null   object \n",
      " 10  variant              6399 non-null   object \n",
      " 11  assured_buy          6399 non-null   bool   \n",
      " 12  registered_city      6391 non-null   object \n",
      " 13  registered_state     6391 non-null   object \n",
      " 14  is_hot               6399 non-null   bool   \n",
      " 15  rto                  6399 non-null   object \n",
      " 16  source               6285 non-null   object \n",
      " 17  make                 6399 non-null   object \n",
      " 18  model                6399 non-null   object \n",
      " 19  car_availability     5857 non-null   object \n",
      " 20  total_owners         6399 non-null   int64  \n",
      " 21  broker_quote         6399 non-null   int64  \n",
      " 22  original_price       3575 non-null   float64\n",
      " 23  car_rating           6392 non-null   object \n",
      " 24  ad_created_on        6398 non-null   object \n",
      " 25  fitness_certificate  6391 non-null   object \n",
      " 26  emi_starts_from      6399 non-null   int64  \n",
      " 27  booking_down_pymnt   6399 non-null   int64  \n",
      " 28  reserved             6399 non-null   bool   \n",
      " 29  warranty_avail       6399 non-null   bool   \n",
      "dtypes: bool(4), float64(1), int64(9), object(16)\n",
      "memory usage: 1.3+ MB\n"
     ]
    }
   ],
   "source": [
    "df.info() #info about each column how many nullvalues and data type of each column"
   ]
  },
  {
   "cell_type": "code",
   "execution_count": 396,
   "metadata": {
    "colab": {
     "base_uri": "https://localhost:8080/"
    },
    "id": "WJGEpUInWuKi",
    "outputId": "bda325b1-aaa6-499a-9255-ee30461444e0"
   },
   "outputs": [
    {
     "data": {
      "text/plain": [
       "id                     6399\n",
       "car_name                182\n",
       "yr_mfr                   24\n",
       "fuel_type                 5\n",
       "kms_run                6243\n",
       "sale_price             4118\n",
       "city                     13\n",
       "times_viewed           2954\n",
       "body_type                 5\n",
       "transmission              2\n",
       "variant                 873\n",
       "assured_buy               2\n",
       "registered_city         230\n",
       "registered_state         16\n",
       "is_hot                    2\n",
       "rto                     255\n",
       "source                    3\n",
       "make                     26\n",
       "model                   182\n",
       "car_availability          4\n",
       "total_owners              6\n",
       "broker_quote           5693\n",
       "original_price         3476\n",
       "car_rating                4\n",
       "ad_created_on          6398\n",
       "fitness_certificate       2\n",
       "emi_starts_from        4048\n",
       "booking_down_pymnt     4048\n",
       "reserved                  2\n",
       "warranty_avail            2\n",
       "dtype: int64"
      ]
     },
     "execution_count": 396,
     "metadata": {
      "tags": []
     },
     "output_type": "execute_result"
    }
   ],
   "source": [
    "df.nunique(axis=0) #no of unique values in each column"
   ]
  },
  {
   "cell_type": "code",
   "execution_count": 397,
   "metadata": {
    "colab": {
     "base_uri": "https://localhost:8080/"
    },
    "id": "SS5afDAOW4X8",
    "outputId": "eedfe3f4-6ebd-4223-b775-af2b5c8c432c"
   },
   "outputs": [
    {
     "data": {
      "text/plain": [
       "0"
      ]
     },
     "execution_count": 397,
     "metadata": {
      "tags": []
     },
     "output_type": "execute_result"
    }
   ],
   "source": [
    "df.duplicated().sum() #no duplicate values"
   ]
  },
  {
   "cell_type": "markdown",
   "metadata": {
    "id": "9aQOSQ5GXAIt"
   },
   "source": [
    "**No duplicate records**"
   ]
  },
  {
   "cell_type": "code",
   "execution_count": 398,
   "metadata": {
    "colab": {
     "base_uri": "https://localhost:8080/"
    },
    "id": "69MQl4YxUhCt",
    "outputId": "449ce8d6-fc8d-4a94-9895-beccae2d46b5"
   },
   "outputs": [
    {
     "data": {
      "text/plain": [
       "id                        0\n",
       "car_name                  0\n",
       "yr_mfr                    0\n",
       "fuel_type                 0\n",
       "kms_run                   0\n",
       "sale_price                0\n",
       "city                      0\n",
       "times_viewed              0\n",
       "body_type                90\n",
       "transmission            474\n",
       "variant                   0\n",
       "assured_buy               0\n",
       "registered_city           8\n",
       "registered_state          8\n",
       "is_hot                    0\n",
       "rto                       0\n",
       "source                  114\n",
       "make                      0\n",
       "model                     0\n",
       "car_availability        542\n",
       "total_owners              0\n",
       "broker_quote              0\n",
       "original_price         2824\n",
       "car_rating                7\n",
       "ad_created_on             1\n",
       "fitness_certificate       8\n",
       "emi_starts_from           0\n",
       "booking_down_pymnt        0\n",
       "reserved                  0\n",
       "warranty_avail            0\n",
       "dtype: int64"
      ]
     },
     "execution_count": 398,
     "metadata": {
      "tags": []
     },
     "output_type": "execute_result"
    }
   ],
   "source": [
    "df.isnull().sum() #checking for null values"
   ]
  },
  {
   "cell_type": "markdown",
   "metadata": {
    "id": "4t39AKW4h80V"
   },
   "source": [
    "**Here original_price column contains more null values so we can after correaltion analysis wether remove or not**"
   ]
  },
  {
   "cell_type": "code",
   "execution_count": 399,
   "metadata": {
    "colab": {
     "base_uri": "https://localhost:8080/",
     "height": 502
    },
    "id": "oNPxC8reXjMZ",
    "outputId": "5b0f75f6-df93-40de-c286-dd4db2c7ee87"
   },
   "outputs": [
    {
     "data": {
      "text/html": [
       "<div>\n",
       "<style scoped>\n",
       "    .dataframe tbody tr th:only-of-type {\n",
       "        vertical-align: middle;\n",
       "    }\n",
       "\n",
       "    .dataframe tbody tr th {\n",
       "        vertical-align: top;\n",
       "    }\n",
       "\n",
       "    .dataframe thead th {\n",
       "        text-align: right;\n",
       "    }\n",
       "</style>\n",
       "<table border=\"1\" class=\"dataframe\">\n",
       "  <thead>\n",
       "    <tr style=\"text-align: right;\">\n",
       "      <th></th>\n",
       "      <th>id</th>\n",
       "      <th>yr_mfr</th>\n",
       "      <th>kms_run</th>\n",
       "      <th>sale_price</th>\n",
       "      <th>times_viewed</th>\n",
       "      <th>assured_buy</th>\n",
       "      <th>is_hot</th>\n",
       "      <th>total_owners</th>\n",
       "      <th>broker_quote</th>\n",
       "      <th>original_price</th>\n",
       "      <th>emi_starts_from</th>\n",
       "      <th>booking_down_pymnt</th>\n",
       "      <th>reserved</th>\n",
       "      <th>warranty_avail</th>\n",
       "    </tr>\n",
       "  </thead>\n",
       "  <tbody>\n",
       "    <tr>\n",
       "      <th>id</th>\n",
       "      <td>1.000000</td>\n",
       "      <td>0.089709</td>\n",
       "      <td>0.015080</td>\n",
       "      <td>0.032071</td>\n",
       "      <td>0.009603</td>\n",
       "      <td>0.023037</td>\n",
       "      <td>-0.080135</td>\n",
       "      <td>-0.009446</td>\n",
       "      <td>0.008309</td>\n",
       "      <td>-0.000049</td>\n",
       "      <td>0.032071</td>\n",
       "      <td>0.032071</td>\n",
       "      <td>0.004702</td>\n",
       "      <td>0.014275</td>\n",
       "    </tr>\n",
       "    <tr>\n",
       "      <th>yr_mfr</th>\n",
       "      <td>0.089709</td>\n",
       "      <td>1.000000</td>\n",
       "      <td>-0.396612</td>\n",
       "      <td>0.521379</td>\n",
       "      <td>0.067565</td>\n",
       "      <td>0.119977</td>\n",
       "      <td>0.204486</td>\n",
       "      <td>-0.295556</td>\n",
       "      <td>0.542951</td>\n",
       "      <td>0.502866</td>\n",
       "      <td>0.521379</td>\n",
       "      <td>0.521379</td>\n",
       "      <td>0.100374</td>\n",
       "      <td>-0.003712</td>\n",
       "    </tr>\n",
       "    <tr>\n",
       "      <th>kms_run</th>\n",
       "      <td>0.015080</td>\n",
       "      <td>-0.396612</td>\n",
       "      <td>1.000000</td>\n",
       "      <td>-0.098388</td>\n",
       "      <td>-0.115663</td>\n",
       "      <td>-0.015230</td>\n",
       "      <td>-0.118013</td>\n",
       "      <td>0.136007</td>\n",
       "      <td>-0.121848</td>\n",
       "      <td>-0.082849</td>\n",
       "      <td>-0.098389</td>\n",
       "      <td>-0.098388</td>\n",
       "      <td>-0.081682</td>\n",
       "      <td>0.016345</td>\n",
       "    </tr>\n",
       "    <tr>\n",
       "      <th>sale_price</th>\n",
       "      <td>0.032071</td>\n",
       "      <td>0.521379</td>\n",
       "      <td>-0.098388</td>\n",
       "      <td>1.000000</td>\n",
       "      <td>0.098256</td>\n",
       "      <td>0.032198</td>\n",
       "      <td>0.065627</td>\n",
       "      <td>-0.127794</td>\n",
       "      <td>0.961021</td>\n",
       "      <td>0.986196</td>\n",
       "      <td>1.000000</td>\n",
       "      <td>1.000000</td>\n",
       "      <td>0.054197</td>\n",
       "      <td>-0.013129</td>\n",
       "    </tr>\n",
       "    <tr>\n",
       "      <th>times_viewed</th>\n",
       "      <td>0.009603</td>\n",
       "      <td>0.067565</td>\n",
       "      <td>-0.115663</td>\n",
       "      <td>0.098256</td>\n",
       "      <td>1.000000</td>\n",
       "      <td>0.079840</td>\n",
       "      <td>0.184748</td>\n",
       "      <td>0.002830</td>\n",
       "      <td>0.131855</td>\n",
       "      <td>0.092438</td>\n",
       "      <td>0.098256</td>\n",
       "      <td>0.098256</td>\n",
       "      <td>0.223501</td>\n",
       "      <td>-0.047353</td>\n",
       "    </tr>\n",
       "    <tr>\n",
       "      <th>assured_buy</th>\n",
       "      <td>0.023037</td>\n",
       "      <td>0.119977</td>\n",
       "      <td>-0.015230</td>\n",
       "      <td>0.032198</td>\n",
       "      <td>0.079840</td>\n",
       "      <td>1.000000</td>\n",
       "      <td>0.380024</td>\n",
       "      <td>-0.073470</td>\n",
       "      <td>0.078595</td>\n",
       "      <td>0.009191</td>\n",
       "      <td>0.032197</td>\n",
       "      <td>0.032198</td>\n",
       "      <td>0.071509</td>\n",
       "      <td>-0.027761</td>\n",
       "    </tr>\n",
       "    <tr>\n",
       "      <th>is_hot</th>\n",
       "      <td>-0.080135</td>\n",
       "      <td>0.204486</td>\n",
       "      <td>-0.118013</td>\n",
       "      <td>0.065627</td>\n",
       "      <td>0.184748</td>\n",
       "      <td>0.380024</td>\n",
       "      <td>1.000000</td>\n",
       "      <td>-0.125427</td>\n",
       "      <td>0.184548</td>\n",
       "      <td>0.010380</td>\n",
       "      <td>0.065626</td>\n",
       "      <td>0.065628</td>\n",
       "      <td>0.147890</td>\n",
       "      <td>-0.348627</td>\n",
       "    </tr>\n",
       "    <tr>\n",
       "      <th>total_owners</th>\n",
       "      <td>-0.009446</td>\n",
       "      <td>-0.295556</td>\n",
       "      <td>0.136007</td>\n",
       "      <td>-0.127794</td>\n",
       "      <td>0.002830</td>\n",
       "      <td>-0.073470</td>\n",
       "      <td>-0.125427</td>\n",
       "      <td>1.000000</td>\n",
       "      <td>-0.150618</td>\n",
       "      <td>-0.080680</td>\n",
       "      <td>-0.127793</td>\n",
       "      <td>-0.127794</td>\n",
       "      <td>-0.056257</td>\n",
       "      <td>0.011473</td>\n",
       "    </tr>\n",
       "    <tr>\n",
       "      <th>broker_quote</th>\n",
       "      <td>0.008309</td>\n",
       "      <td>0.542951</td>\n",
       "      <td>-0.121848</td>\n",
       "      <td>0.961021</td>\n",
       "      <td>0.131855</td>\n",
       "      <td>0.078595</td>\n",
       "      <td>0.184548</td>\n",
       "      <td>-0.150618</td>\n",
       "      <td>1.000000</td>\n",
       "      <td>0.985439</td>\n",
       "      <td>0.961020</td>\n",
       "      <td>0.961021</td>\n",
       "      <td>0.085843</td>\n",
       "      <td>-0.061038</td>\n",
       "    </tr>\n",
       "    <tr>\n",
       "      <th>original_price</th>\n",
       "      <td>-0.000049</td>\n",
       "      <td>0.502866</td>\n",
       "      <td>-0.082849</td>\n",
       "      <td>0.986196</td>\n",
       "      <td>0.092438</td>\n",
       "      <td>0.009191</td>\n",
       "      <td>0.010380</td>\n",
       "      <td>-0.080680</td>\n",
       "      <td>0.985439</td>\n",
       "      <td>1.000000</td>\n",
       "      <td>0.986196</td>\n",
       "      <td>0.986196</td>\n",
       "      <td>0.080518</td>\n",
       "      <td>-0.004814</td>\n",
       "    </tr>\n",
       "    <tr>\n",
       "      <th>emi_starts_from</th>\n",
       "      <td>0.032071</td>\n",
       "      <td>0.521379</td>\n",
       "      <td>-0.098389</td>\n",
       "      <td>1.000000</td>\n",
       "      <td>0.098256</td>\n",
       "      <td>0.032197</td>\n",
       "      <td>0.065626</td>\n",
       "      <td>-0.127793</td>\n",
       "      <td>0.961020</td>\n",
       "      <td>0.986196</td>\n",
       "      <td>1.000000</td>\n",
       "      <td>1.000000</td>\n",
       "      <td>0.054197</td>\n",
       "      <td>-0.013128</td>\n",
       "    </tr>\n",
       "    <tr>\n",
       "      <th>booking_down_pymnt</th>\n",
       "      <td>0.032071</td>\n",
       "      <td>0.521379</td>\n",
       "      <td>-0.098388</td>\n",
       "      <td>1.000000</td>\n",
       "      <td>0.098256</td>\n",
       "      <td>0.032198</td>\n",
       "      <td>0.065628</td>\n",
       "      <td>-0.127794</td>\n",
       "      <td>0.961021</td>\n",
       "      <td>0.986196</td>\n",
       "      <td>1.000000</td>\n",
       "      <td>1.000000</td>\n",
       "      <td>0.054197</td>\n",
       "      <td>-0.013130</td>\n",
       "    </tr>\n",
       "    <tr>\n",
       "      <th>reserved</th>\n",
       "      <td>0.004702</td>\n",
       "      <td>0.100374</td>\n",
       "      <td>-0.081682</td>\n",
       "      <td>0.054197</td>\n",
       "      <td>0.223501</td>\n",
       "      <td>0.071509</td>\n",
       "      <td>0.147890</td>\n",
       "      <td>-0.056257</td>\n",
       "      <td>0.085843</td>\n",
       "      <td>0.080518</td>\n",
       "      <td>0.054197</td>\n",
       "      <td>0.054197</td>\n",
       "      <td>1.000000</td>\n",
       "      <td>-0.049518</td>\n",
       "    </tr>\n",
       "    <tr>\n",
       "      <th>warranty_avail</th>\n",
       "      <td>0.014275</td>\n",
       "      <td>-0.003712</td>\n",
       "      <td>0.016345</td>\n",
       "      <td>-0.013129</td>\n",
       "      <td>-0.047353</td>\n",
       "      <td>-0.027761</td>\n",
       "      <td>-0.348627</td>\n",
       "      <td>0.011473</td>\n",
       "      <td>-0.061038</td>\n",
       "      <td>-0.004814</td>\n",
       "      <td>-0.013128</td>\n",
       "      <td>-0.013130</td>\n",
       "      <td>-0.049518</td>\n",
       "      <td>1.000000</td>\n",
       "    </tr>\n",
       "  </tbody>\n",
       "</table>\n",
       "</div>"
      ],
      "text/plain": [
       "                          id    yr_mfr  ...  reserved  warranty_avail\n",
       "id                  1.000000  0.089709  ...  0.004702        0.014275\n",
       "yr_mfr              0.089709  1.000000  ...  0.100374       -0.003712\n",
       "kms_run             0.015080 -0.396612  ... -0.081682        0.016345\n",
       "sale_price          0.032071  0.521379  ...  0.054197       -0.013129\n",
       "times_viewed        0.009603  0.067565  ...  0.223501       -0.047353\n",
       "assured_buy         0.023037  0.119977  ...  0.071509       -0.027761\n",
       "is_hot             -0.080135  0.204486  ...  0.147890       -0.348627\n",
       "total_owners       -0.009446 -0.295556  ... -0.056257        0.011473\n",
       "broker_quote        0.008309  0.542951  ...  0.085843       -0.061038\n",
       "original_price     -0.000049  0.502866  ...  0.080518       -0.004814\n",
       "emi_starts_from     0.032071  0.521379  ...  0.054197       -0.013128\n",
       "booking_down_pymnt  0.032071  0.521379  ...  0.054197       -0.013130\n",
       "reserved            0.004702  0.100374  ...  1.000000       -0.049518\n",
       "warranty_avail      0.014275 -0.003712  ... -0.049518        1.000000\n",
       "\n",
       "[14 rows x 14 columns]"
      ]
     },
     "execution_count": 399,
     "metadata": {
      "tags": []
     },
     "output_type": "execute_result"
    }
   ],
   "source": [
    "corr=df.corr() #to find correlation\n",
    "corr"
   ]
  },
  {
   "cell_type": "code",
   "execution_count": 400,
   "metadata": {
    "colab": {
     "base_uri": "https://localhost:8080/",
     "height": 545
    },
    "id": "pjmwQ3e8YivY",
    "outputId": "159ea21e-7d97-43ea-8cdf-cce8b0af1224"
   },
   "outputs": [
    {
     "data": {
      "image/png": "[encoded data removed]",
      "text/plain": [
       "<Figure size 936x504 with 2 Axes>"
      ]
     },
     "metadata": {
      "needs_background": "light",
      "tags": []
     },
     "output_type": "display_data"
    }
   ],
   "source": [
    "corr = df.corr()\n",
    "sns.set_context(\"notebook\", font_scale=1.0, rc={\"lines.linewidth\": 2.5})\n",
    "plt.figure(figsize=(13,7))\n",
    "a = sns.heatmap(corr, annot=True, fmt='.2f')\n",
    "rotx = a.set_xticklabels(a.get_xticklabels(), rotation=90)\n",
    "roty = a.set_yticklabels(a.get_yticklabels(), rotation=30)"
   ]
  },
  {
   "cell_type": "markdown",
   "metadata": {
    "id": "bWETbNrjaeTd"
   },
   "source": [
    "#We can observe from above that sale_price,emi_starts_from,booking_down_pymnt\n",
    "#original_price ,broker_quote are highly correlated and \n",
    "#sale_price is our target variable\n",
    "#That means emi_starts_from , booking_down_payment,original_price,broker_qoute effect more our target variable\n",
    "\n",
    "#So we can keep any one of them and frop remaining columns\n",
    "\n",
    "#Here i am removing above mentioned columns and keeping booking_down_payment as it is\n",
    "#I am removing original_price also because as we observed above it has 2824 null values"
   ]
  },
  {
   "cell_type": "markdown",
   "metadata": {
    "id": "F-9fcXIZynGg"
   },
   "source": [
    "#And also removing Id column because it doesn't effect our target column"
   ]
  },
  {
   "cell_type": "code",
   "execution_count": 401,
   "metadata": {
    "id": "nJnkQDzok1ty"
   },
   "outputs": [],
   "source": [
    "def remove(df):\n",
    "  df1=df.drop(['id','emi_starts_from','original_price','broker_quote'],axis=1)\n",
    "  return df1\n",
    "df1=remove(df)"
   ]
  },
  {
   "cell_type": "code",
   "execution_count": 402,
   "metadata": {
    "colab": {
     "base_uri": "https://localhost:8080/",
     "height": 657
    },
    "id": "tVX5Mq4lmOxG",
    "outputId": "45a990be-5a0b-44a8-d1a4-78dce6529539"
   },
   "outputs": [
    {
     "data": {
      "text/html": [
       "<div>\n",
       "<style scoped>\n",
       "    .dataframe tbody tr th:only-of-type {\n",
       "        vertical-align: middle;\n",
       "    }\n",
       "\n",
       "    .dataframe tbody tr th {\n",
       "        vertical-align: top;\n",
       "    }\n",
       "\n",
       "    .dataframe thead th {\n",
       "        text-align: right;\n",
       "    }\n",
       "</style>\n",
       "<table border=\"1\" class=\"dataframe\">\n",
       "  <thead>\n",
       "    <tr style=\"text-align: right;\">\n",
       "      <th></th>\n",
       "      <th>car_name</th>\n",
       "      <th>yr_mfr</th>\n",
       "      <th>fuel_type</th>\n",
       "      <th>kms_run</th>\n",
       "      <th>sale_price</th>\n",
       "      <th>city</th>\n",
       "      <th>times_viewed</th>\n",
       "      <th>body_type</th>\n",
       "      <th>transmission</th>\n",
       "      <th>variant</th>\n",
       "      <th>assured_buy</th>\n",
       "      <th>registered_city</th>\n",
       "      <th>registered_state</th>\n",
       "      <th>is_hot</th>\n",
       "      <th>rto</th>\n",
       "      <th>source</th>\n",
       "      <th>make</th>\n",
       "      <th>model</th>\n",
       "      <th>car_availability</th>\n",
       "      <th>total_owners</th>\n",
       "      <th>car_rating</th>\n",
       "      <th>ad_created_on</th>\n",
       "      <th>fitness_certificate</th>\n",
       "      <th>booking_down_pymnt</th>\n",
       "      <th>reserved</th>\n",
       "      <th>warranty_avail</th>\n",
       "    </tr>\n",
       "  </thead>\n",
       "  <tbody>\n",
       "    <tr>\n",
       "      <th>0</th>\n",
       "      <td>maruti swift</td>\n",
       "      <td>2015</td>\n",
       "      <td>petrol</td>\n",
       "      <td>8063</td>\n",
       "      <td>386399</td>\n",
       "      <td>noida</td>\n",
       "      <td>18715</td>\n",
       "      <td>hatchback</td>\n",
       "      <td>manual</td>\n",
       "      <td>lxi opt</td>\n",
       "      <td>True</td>\n",
       "      <td>delhi</td>\n",
       "      <td>delhi</td>\n",
       "      <td>True</td>\n",
       "      <td>dl6c</td>\n",
       "      <td>inperson_sale</td>\n",
       "      <td>maruti</td>\n",
       "      <td>swift</td>\n",
       "      <td>in_stock</td>\n",
       "      <td>2</td>\n",
       "      <td>great</td>\n",
       "      <td>2021-04-04T07:09:18.583</td>\n",
       "      <td>True</td>\n",
       "      <td>57960</td>\n",
       "      <td>False</td>\n",
       "      <td>False</td>\n",
       "    </tr>\n",
       "    <tr>\n",
       "      <th>1</th>\n",
       "      <td>maruti alto 800</td>\n",
       "      <td>2016</td>\n",
       "      <td>petrol</td>\n",
       "      <td>23104</td>\n",
       "      <td>265499</td>\n",
       "      <td>noida</td>\n",
       "      <td>2676</td>\n",
       "      <td>hatchback</td>\n",
       "      <td>manual</td>\n",
       "      <td>lxi</td>\n",
       "      <td>True</td>\n",
       "      <td>noida</td>\n",
       "      <td>uttar pradesh</td>\n",
       "      <td>True</td>\n",
       "      <td>up16</td>\n",
       "      <td>inperson_sale</td>\n",
       "      <td>maruti</td>\n",
       "      <td>alto 800</td>\n",
       "      <td>in_stock</td>\n",
       "      <td>1</td>\n",
       "      <td>great</td>\n",
       "      <td>2021-03-22T14:07:32.833</td>\n",
       "      <td>True</td>\n",
       "      <td>39825</td>\n",
       "      <td>False</td>\n",
       "      <td>False</td>\n",
       "    </tr>\n",
       "    <tr>\n",
       "      <th>2</th>\n",
       "      <td>hyundai grand i10</td>\n",
       "      <td>2017</td>\n",
       "      <td>petrol</td>\n",
       "      <td>23402</td>\n",
       "      <td>477699</td>\n",
       "      <td>noida</td>\n",
       "      <td>609</td>\n",
       "      <td>hatchback</td>\n",
       "      <td>manual</td>\n",
       "      <td>sports 1.2 vtvt</td>\n",
       "      <td>True</td>\n",
       "      <td>agra</td>\n",
       "      <td>uttar pradesh</td>\n",
       "      <td>True</td>\n",
       "      <td>up80</td>\n",
       "      <td>inperson_sale</td>\n",
       "      <td>hyundai</td>\n",
       "      <td>grand i10</td>\n",
       "      <td>in_stock</td>\n",
       "      <td>1</td>\n",
       "      <td>great</td>\n",
       "      <td>2021-03-20T05:36:31.311</td>\n",
       "      <td>True</td>\n",
       "      <td>71655</td>\n",
       "      <td>False</td>\n",
       "      <td>False</td>\n",
       "    </tr>\n",
       "    <tr>\n",
       "      <th>3</th>\n",
       "      <td>maruti swift</td>\n",
       "      <td>2013</td>\n",
       "      <td>diesel</td>\n",
       "      <td>39124</td>\n",
       "      <td>307999</td>\n",
       "      <td>noida</td>\n",
       "      <td>6511</td>\n",
       "      <td>hatchback</td>\n",
       "      <td>manual</td>\n",
       "      <td>vdi</td>\n",
       "      <td>True</td>\n",
       "      <td>delhi</td>\n",
       "      <td>delhi</td>\n",
       "      <td>True</td>\n",
       "      <td>dl1c</td>\n",
       "      <td>inperson_sale</td>\n",
       "      <td>maruti</td>\n",
       "      <td>swift</td>\n",
       "      <td>in_stock</td>\n",
       "      <td>1</td>\n",
       "      <td>great</td>\n",
       "      <td>2021-01-21T12:59:19.299</td>\n",
       "      <td>True</td>\n",
       "      <td>46200</td>\n",
       "      <td>False</td>\n",
       "      <td>False</td>\n",
       "    </tr>\n",
       "    <tr>\n",
       "      <th>4</th>\n",
       "      <td>hyundai grand i10</td>\n",
       "      <td>2015</td>\n",
       "      <td>petrol</td>\n",
       "      <td>22116</td>\n",
       "      <td>361499</td>\n",
       "      <td>noida</td>\n",
       "      <td>3225</td>\n",
       "      <td>hatchback</td>\n",
       "      <td>manual</td>\n",
       "      <td>magna 1.2 vtvt</td>\n",
       "      <td>False</td>\n",
       "      <td>new delhi</td>\n",
       "      <td>delhi</td>\n",
       "      <td>True</td>\n",
       "      <td>dl12</td>\n",
       "      <td>inperson_sale</td>\n",
       "      <td>hyundai</td>\n",
       "      <td>grand i10</td>\n",
       "      <td>in_stock</td>\n",
       "      <td>1</td>\n",
       "      <td>great</td>\n",
       "      <td>2021-04-01T13:33:40.733</td>\n",
       "      <td>True</td>\n",
       "      <td>54225</td>\n",
       "      <td>False</td>\n",
       "      <td>False</td>\n",
       "    </tr>\n",
       "    <tr>\n",
       "      <th>...</th>\n",
       "      <td>...</td>\n",
       "      <td>...</td>\n",
       "      <td>...</td>\n",
       "      <td>...</td>\n",
       "      <td>...</td>\n",
       "      <td>...</td>\n",
       "      <td>...</td>\n",
       "      <td>...</td>\n",
       "      <td>...</td>\n",
       "      <td>...</td>\n",
       "      <td>...</td>\n",
       "      <td>...</td>\n",
       "      <td>...</td>\n",
       "      <td>...</td>\n",
       "      <td>...</td>\n",
       "      <td>...</td>\n",
       "      <td>...</td>\n",
       "      <td>...</td>\n",
       "      <td>...</td>\n",
       "      <td>...</td>\n",
       "      <td>...</td>\n",
       "      <td>...</td>\n",
       "      <td>...</td>\n",
       "      <td>...</td>\n",
       "      <td>...</td>\n",
       "      <td>...</td>\n",
       "    </tr>\n",
       "    <tr>\n",
       "      <th>6394</th>\n",
       "      <td>toyota fortuner</td>\n",
       "      <td>2012</td>\n",
       "      <td>diesel</td>\n",
       "      <td>116838</td>\n",
       "      <td>1100000</td>\n",
       "      <td>lucknow</td>\n",
       "      <td>327</td>\n",
       "      <td>luxury suv</td>\n",
       "      <td>manual</td>\n",
       "      <td>3.0 mt 4x2</td>\n",
       "      <td>True</td>\n",
       "      <td>pratapgarh</td>\n",
       "      <td>uttar pradesh</td>\n",
       "      <td>False</td>\n",
       "      <td>up72</td>\n",
       "      <td>online</td>\n",
       "      <td>toyota</td>\n",
       "      <td>fortuner</td>\n",
       "      <td>NaN</td>\n",
       "      <td>2</td>\n",
       "      <td>good</td>\n",
       "      <td>2019-09-06T04:20:28.916</td>\n",
       "      <td>False</td>\n",
       "      <td>165000</td>\n",
       "      <td>False</td>\n",
       "      <td>True</td>\n",
       "    </tr>\n",
       "    <tr>\n",
       "      <th>6395</th>\n",
       "      <td>hyundai i20</td>\n",
       "      <td>2012</td>\n",
       "      <td>diesel</td>\n",
       "      <td>47317</td>\n",
       "      <td>370000</td>\n",
       "      <td>lucknow</td>\n",
       "      <td>214</td>\n",
       "      <td>hatchback</td>\n",
       "      <td>manual</td>\n",
       "      <td>sportz 1.4 crdi 6 speed bs iv</td>\n",
       "      <td>False</td>\n",
       "      <td>gurgaon</td>\n",
       "      <td>haryana</td>\n",
       "      <td>False</td>\n",
       "      <td>hr26</td>\n",
       "      <td>online</td>\n",
       "      <td>hyundai</td>\n",
       "      <td>i20</td>\n",
       "      <td>NaN</td>\n",
       "      <td>1</td>\n",
       "      <td>overpriced</td>\n",
       "      <td>2019-09-02T09:43:11.541</td>\n",
       "      <td>False</td>\n",
       "      <td>55500</td>\n",
       "      <td>False</td>\n",
       "      <td>True</td>\n",
       "    </tr>\n",
       "    <tr>\n",
       "      <th>6396</th>\n",
       "      <td>toyota innova</td>\n",
       "      <td>2009</td>\n",
       "      <td>diesel</td>\n",
       "      <td>274167</td>\n",
       "      <td>415000</td>\n",
       "      <td>lucknow</td>\n",
       "      <td>247</td>\n",
       "      <td>suv</td>\n",
       "      <td>manual</td>\n",
       "      <td>2.5 g4 7 str</td>\n",
       "      <td>True</td>\n",
       "      <td>lucknow</td>\n",
       "      <td>uttar pradesh</td>\n",
       "      <td>False</td>\n",
       "      <td>up32</td>\n",
       "      <td>online</td>\n",
       "      <td>toyota</td>\n",
       "      <td>innova</td>\n",
       "      <td>NaN</td>\n",
       "      <td>2</td>\n",
       "      <td>overpriced</td>\n",
       "      <td>2019-08-28T14:42:16.246</td>\n",
       "      <td>False</td>\n",
       "      <td>62250</td>\n",
       "      <td>False</td>\n",
       "      <td>False</td>\n",
       "    </tr>\n",
       "    <tr>\n",
       "      <th>6397</th>\n",
       "      <td>tata indica ev2</td>\n",
       "      <td>2011</td>\n",
       "      <td>diesel</td>\n",
       "      <td>119634</td>\n",
       "      <td>150000</td>\n",
       "      <td>lucknow</td>\n",
       "      <td>157</td>\n",
       "      <td>hatchback</td>\n",
       "      <td>manual</td>\n",
       "      <td>lx</td>\n",
       "      <td>False</td>\n",
       "      <td>lucknow</td>\n",
       "      <td>uttar pradesh</td>\n",
       "      <td>False</td>\n",
       "      <td>up32</td>\n",
       "      <td>online</td>\n",
       "      <td>tata</td>\n",
       "      <td>indica ev2</td>\n",
       "      <td>NaN</td>\n",
       "      <td>2</td>\n",
       "      <td>overpriced</td>\n",
       "      <td>2019-08-26T06:10:57.269</td>\n",
       "      <td>False</td>\n",
       "      <td>22500</td>\n",
       "      <td>False</td>\n",
       "      <td>False</td>\n",
       "    </tr>\n",
       "    <tr>\n",
       "      <th>6398</th>\n",
       "      <td>hyundai grand i10</td>\n",
       "      <td>2015</td>\n",
       "      <td>diesel</td>\n",
       "      <td>101527</td>\n",
       "      <td>350000</td>\n",
       "      <td>lucknow</td>\n",
       "      <td>144</td>\n",
       "      <td>hatchback</td>\n",
       "      <td>manual</td>\n",
       "      <td>sportz 1.1 crdi</td>\n",
       "      <td>True</td>\n",
       "      <td>lucknow</td>\n",
       "      <td>uttar pradesh</td>\n",
       "      <td>False</td>\n",
       "      <td>up32</td>\n",
       "      <td>online</td>\n",
       "      <td>hyundai</td>\n",
       "      <td>grand i10</td>\n",
       "      <td>NaN</td>\n",
       "      <td>2</td>\n",
       "      <td>good</td>\n",
       "      <td>2019-08-25T06:09:38.375</td>\n",
       "      <td>False</td>\n",
       "      <td>52500</td>\n",
       "      <td>False</td>\n",
       "      <td>True</td>\n",
       "    </tr>\n",
       "  </tbody>\n",
       "</table>\n",
       "<p>6399 rows × 26 columns</p>\n",
       "</div>"
      ],
      "text/plain": [
       "               car_name  yr_mfr  ... reserved  warranty_avail\n",
       "0          maruti swift    2015  ...    False           False\n",
       "1       maruti alto 800    2016  ...    False           False\n",
       "2     hyundai grand i10    2017  ...    False           False\n",
       "3          maruti swift    2013  ...    False           False\n",
       "4     hyundai grand i10    2015  ...    False           False\n",
       "...                 ...     ...  ...      ...             ...\n",
       "6394    toyota fortuner    2012  ...    False            True\n",
       "6395        hyundai i20    2012  ...    False            True\n",
       "6396      toyota innova    2009  ...    False           False\n",
       "6397    tata indica ev2    2011  ...    False           False\n",
       "6398  hyundai grand i10    2015  ...    False            True\n",
       "\n",
       "[6399 rows x 26 columns]"
      ]
     },
     "execution_count": 402,
     "metadata": {
      "tags": []
     },
     "output_type": "execute_result"
    }
   ],
   "source": [
    "df1"
   ]
  },
  {
   "cell_type": "code",
   "execution_count": 403,
   "metadata": {
    "colab": {
     "base_uri": "https://localhost:8080/",
     "height": 308
    },
    "id": "75wxLU6GXzVX",
    "outputId": "d7fa834b-6681-47bd-f355-0a5e5bc0325e"
   },
   "outputs": [
    {
     "data": {
      "text/html": [
       "<div>\n",
       "<style scoped>\n",
       "    .dataframe tbody tr th:only-of-type {\n",
       "        vertical-align: middle;\n",
       "    }\n",
       "\n",
       "    .dataframe tbody tr th {\n",
       "        vertical-align: top;\n",
       "    }\n",
       "\n",
       "    .dataframe thead th {\n",
       "        text-align: right;\n",
       "    }\n",
       "</style>\n",
       "<table border=\"1\" class=\"dataframe\">\n",
       "  <thead>\n",
       "    <tr style=\"text-align: right;\">\n",
       "      <th></th>\n",
       "      <th>car_name</th>\n",
       "      <th>yr_mfr</th>\n",
       "      <th>fuel_type</th>\n",
       "      <th>kms_run</th>\n",
       "      <th>sale_price</th>\n",
       "      <th>city</th>\n",
       "      <th>times_viewed</th>\n",
       "      <th>body_type</th>\n",
       "      <th>transmission</th>\n",
       "      <th>variant</th>\n",
       "      <th>assured_buy</th>\n",
       "      <th>registered_city</th>\n",
       "      <th>registered_state</th>\n",
       "      <th>is_hot</th>\n",
       "      <th>rto</th>\n",
       "      <th>source</th>\n",
       "      <th>make</th>\n",
       "      <th>model</th>\n",
       "      <th>car_availability</th>\n",
       "      <th>total_owners</th>\n",
       "      <th>car_rating</th>\n",
       "      <th>ad_created_on</th>\n",
       "      <th>fitness_certificate</th>\n",
       "      <th>booking_down_pymnt</th>\n",
       "      <th>reserved</th>\n",
       "      <th>warranty_avail</th>\n",
       "    </tr>\n",
       "  </thead>\n",
       "  <tbody>\n",
       "    <tr>\n",
       "      <th>0</th>\n",
       "      <td>maruti swift</td>\n",
       "      <td>2015</td>\n",
       "      <td>petrol</td>\n",
       "      <td>8063</td>\n",
       "      <td>386399</td>\n",
       "      <td>noida</td>\n",
       "      <td>18715</td>\n",
       "      <td>hatchback</td>\n",
       "      <td>manual</td>\n",
       "      <td>lxi opt</td>\n",
       "      <td>True</td>\n",
       "      <td>delhi</td>\n",
       "      <td>delhi</td>\n",
       "      <td>True</td>\n",
       "      <td>dl6c</td>\n",
       "      <td>inperson_sale</td>\n",
       "      <td>maruti</td>\n",
       "      <td>swift</td>\n",
       "      <td>in_stock</td>\n",
       "      <td>2</td>\n",
       "      <td>great</td>\n",
       "      <td>2021-04-04T07:09:18.583</td>\n",
       "      <td>True</td>\n",
       "      <td>57960</td>\n",
       "      <td>False</td>\n",
       "      <td>False</td>\n",
       "    </tr>\n",
       "    <tr>\n",
       "      <th>1</th>\n",
       "      <td>maruti alto 800</td>\n",
       "      <td>2016</td>\n",
       "      <td>petrol</td>\n",
       "      <td>23104</td>\n",
       "      <td>265499</td>\n",
       "      <td>noida</td>\n",
       "      <td>2676</td>\n",
       "      <td>hatchback</td>\n",
       "      <td>manual</td>\n",
       "      <td>lxi</td>\n",
       "      <td>True</td>\n",
       "      <td>noida</td>\n",
       "      <td>uttar pradesh</td>\n",
       "      <td>True</td>\n",
       "      <td>up16</td>\n",
       "      <td>inperson_sale</td>\n",
       "      <td>maruti</td>\n",
       "      <td>alto 800</td>\n",
       "      <td>in_stock</td>\n",
       "      <td>1</td>\n",
       "      <td>great</td>\n",
       "      <td>2021-03-22T14:07:32.833</td>\n",
       "      <td>True</td>\n",
       "      <td>39825</td>\n",
       "      <td>False</td>\n",
       "      <td>False</td>\n",
       "    </tr>\n",
       "    <tr>\n",
       "      <th>2</th>\n",
       "      <td>hyundai grand i10</td>\n",
       "      <td>2017</td>\n",
       "      <td>petrol</td>\n",
       "      <td>23402</td>\n",
       "      <td>477699</td>\n",
       "      <td>noida</td>\n",
       "      <td>609</td>\n",
       "      <td>hatchback</td>\n",
       "      <td>manual</td>\n",
       "      <td>sports 1.2 vtvt</td>\n",
       "      <td>True</td>\n",
       "      <td>agra</td>\n",
       "      <td>uttar pradesh</td>\n",
       "      <td>True</td>\n",
       "      <td>up80</td>\n",
       "      <td>inperson_sale</td>\n",
       "      <td>hyundai</td>\n",
       "      <td>grand i10</td>\n",
       "      <td>in_stock</td>\n",
       "      <td>1</td>\n",
       "      <td>great</td>\n",
       "      <td>2021-03-20T05:36:31.311</td>\n",
       "      <td>True</td>\n",
       "      <td>71655</td>\n",
       "      <td>False</td>\n",
       "      <td>False</td>\n",
       "    </tr>\n",
       "    <tr>\n",
       "      <th>3</th>\n",
       "      <td>maruti swift</td>\n",
       "      <td>2013</td>\n",
       "      <td>diesel</td>\n",
       "      <td>39124</td>\n",
       "      <td>307999</td>\n",
       "      <td>noida</td>\n",
       "      <td>6511</td>\n",
       "      <td>hatchback</td>\n",
       "      <td>manual</td>\n",
       "      <td>vdi</td>\n",
       "      <td>True</td>\n",
       "      <td>delhi</td>\n",
       "      <td>delhi</td>\n",
       "      <td>True</td>\n",
       "      <td>dl1c</td>\n",
       "      <td>inperson_sale</td>\n",
       "      <td>maruti</td>\n",
       "      <td>swift</td>\n",
       "      <td>in_stock</td>\n",
       "      <td>1</td>\n",
       "      <td>great</td>\n",
       "      <td>2021-01-21T12:59:19.299</td>\n",
       "      <td>True</td>\n",
       "      <td>46200</td>\n",
       "      <td>False</td>\n",
       "      <td>False</td>\n",
       "    </tr>\n",
       "    <tr>\n",
       "      <th>4</th>\n",
       "      <td>hyundai grand i10</td>\n",
       "      <td>2015</td>\n",
       "      <td>petrol</td>\n",
       "      <td>22116</td>\n",
       "      <td>361499</td>\n",
       "      <td>noida</td>\n",
       "      <td>3225</td>\n",
       "      <td>hatchback</td>\n",
       "      <td>manual</td>\n",
       "      <td>magna 1.2 vtvt</td>\n",
       "      <td>False</td>\n",
       "      <td>new delhi</td>\n",
       "      <td>delhi</td>\n",
       "      <td>True</td>\n",
       "      <td>dl12</td>\n",
       "      <td>inperson_sale</td>\n",
       "      <td>hyundai</td>\n",
       "      <td>grand i10</td>\n",
       "      <td>in_stock</td>\n",
       "      <td>1</td>\n",
       "      <td>great</td>\n",
       "      <td>2021-04-01T13:33:40.733</td>\n",
       "      <td>True</td>\n",
       "      <td>54225</td>\n",
       "      <td>False</td>\n",
       "      <td>False</td>\n",
       "    </tr>\n",
       "  </tbody>\n",
       "</table>\n",
       "</div>"
      ],
      "text/plain": [
       "            car_name  yr_mfr  ... reserved  warranty_avail\n",
       "0       maruti swift    2015  ...    False           False\n",
       "1    maruti alto 800    2016  ...    False           False\n",
       "2  hyundai grand i10    2017  ...    False           False\n",
       "3       maruti swift    2013  ...    False           False\n",
       "4  hyundai grand i10    2015  ...    False           False\n",
       "\n",
       "[5 rows x 26 columns]"
      ]
     },
     "execution_count": 403,
     "metadata": {
      "tags": []
     },
     "output_type": "execute_result"
    }
   ],
   "source": [
    "df1.head()"
   ]
  },
  {
   "cell_type": "code",
   "execution_count": 404,
   "metadata": {
    "colab": {
     "base_uri": "https://localhost:8080/"
    },
    "id": "Yq130UZ6mJqg",
    "outputId": "92fae945-87bf-4f77-a2cf-daca97b113fa"
   },
   "outputs": [
    {
     "data": {
      "text/plain": [
       "car_name                 0\n",
       "yr_mfr                   0\n",
       "fuel_type                0\n",
       "kms_run                  0\n",
       "sale_price               0\n",
       "city                     0\n",
       "times_viewed             0\n",
       "body_type               90\n",
       "transmission           474\n",
       "variant                  0\n",
       "assured_buy              0\n",
       "registered_city          8\n",
       "registered_state         8\n",
       "is_hot                   0\n",
       "rto                      0\n",
       "source                 114\n",
       "make                     0\n",
       "model                    0\n",
       "car_availability       542\n",
       "total_owners             0\n",
       "car_rating               7\n",
       "ad_created_on            1\n",
       "fitness_certificate      8\n",
       "booking_down_pymnt       0\n",
       "reserved                 0\n",
       "warranty_avail           0\n",
       "dtype: int64"
      ]
     },
     "execution_count": 404,
     "metadata": {
      "tags": []
     },
     "output_type": "execute_result"
    }
   ],
   "source": [
    "df1.isnull().sum()"
   ]
  },
  {
   "cell_type": "code",
   "execution_count": 405,
   "metadata": {
    "colab": {
     "base_uri": "https://localhost:8080/"
    },
    "id": "wi9GMwdR9m1o",
    "outputId": "a79b2fed-4f9a-4355-bb94-fd655e6a669a"
   },
   "outputs": [
    {
     "data": {
      "text/plain": [
       "(6399, 26)"
      ]
     },
     "execution_count": 405,
     "metadata": {
      "tags": []
     },
     "output_type": "execute_result"
    }
   ],
   "source": [
    "df1.shape"
   ]
  },
  {
   "cell_type": "code",
   "execution_count": 406,
   "metadata": {
    "colab": {
     "base_uri": "https://localhost:8080/"
    },
    "id": "Xo3T2lLZxxay",
    "outputId": "81f53ef3-8c8e-41e0-ee2d-3568b32c4c8e"
   },
   "outputs": [
    {
     "name": "stdout",
     "output_type": "stream",
     "text": [
      "<class 'pandas.core.frame.DataFrame'>\n",
      "RangeIndex: 6399 entries, 0 to 6398\n",
      "Data columns (total 26 columns):\n",
      " #   Column               Non-Null Count  Dtype \n",
      "---  ------               --------------  ----- \n",
      " 0   car_name             6399 non-null   object\n",
      " 1   yr_mfr               6399 non-null   int64 \n",
      " 2   fuel_type            6399 non-null   object\n",
      " 3   kms_run              6399 non-null   int64 \n",
      " 4   sale_price           6399 non-null   int64 \n",
      " 5   city                 6399 non-null   object\n",
      " 6   times_viewed         6399 non-null   int64 \n",
      " 7   body_type            6309 non-null   object\n",
      " 8   transmission         5925 non-null   object\n",
      " 9   variant              6399 non-null   object\n",
      " 10  assured_buy          6399 non-null   bool  \n",
      " 11  registered_city      6391 non-null   object\n",
      " 12  registered_state     6391 non-null   object\n",
      " 13  is_hot               6399 non-null   bool  \n",
      " 14  rto                  6399 non-null   object\n",
      " 15  source               6285 non-null   object\n",
      " 16  make                 6399 non-null   object\n",
      " 17  model                6399 non-null   object\n",
      " 18  car_availability     5857 non-null   object\n",
      " 19  total_owners         6399 non-null   int64 \n",
      " 20  car_rating           6392 non-null   object\n",
      " 21  ad_created_on        6398 non-null   object\n",
      " 22  fitness_certificate  6391 non-null   object\n",
      " 23  booking_down_pymnt   6399 non-null   int64 \n",
      " 24  reserved             6399 non-null   bool  \n",
      " 25  warranty_avail       6399 non-null   bool  \n",
      "dtypes: bool(4), int64(6), object(16)\n",
      "memory usage: 1.1+ MB\n"
     ]
    }
   ],
   "source": [
    "df1.info()"
   ]
  },
  {
   "cell_type": "markdown",
   "metadata": {
    "id": "Idn8G-Bnx6uT"
   },
   "source": [
    "#Handling missing values"
   ]
  },
  {
   "cell_type": "markdown",
   "metadata": {
    "id": "iBtxyQCHyAh4"
   },
   "source": [
    "**In our data body_type,transmission,source,car_availability,car_rating,ad_created_on,fitness_certificate,registered_city,registered_state contains null values our next step is to handle missing data**"
   ]
  },
  {
   "cell_type": "code",
   "execution_count": 407,
   "metadata": {
    "colab": {
     "base_uri": "https://localhost:8080/"
    },
    "id": "tYPU36KEx25h",
    "outputId": "fa6e94ab-9ba3-4aba-a70b-0e612c10c8c4"
   },
   "outputs": [
    {
     "data": {
      "text/plain": [
       "car_name               object\n",
       "yr_mfr                  int64\n",
       "fuel_type              object\n",
       "kms_run                 int64\n",
       "sale_price              int64\n",
       "city                   object\n",
       "times_viewed            int64\n",
       "body_type              object\n",
       "transmission           object\n",
       "variant                object\n",
       "assured_buy              bool\n",
       "registered_city        object\n",
       "registered_state       object\n",
       "is_hot                   bool\n",
       "rto                    object\n",
       "source                 object\n",
       "make                   object\n",
       "model                  object\n",
       "car_availability       object\n",
       "total_owners            int64\n",
       "car_rating             object\n",
       "ad_created_on          object\n",
       "fitness_certificate    object\n",
       "booking_down_pymnt      int64\n",
       "reserved                 bool\n",
       "warranty_avail           bool\n",
       "dtype: object"
      ]
     },
     "execution_count": 407,
     "metadata": {
      "tags": []
     },
     "output_type": "execute_result"
    }
   ],
   "source": [
    "df1.dtypes"
   ]
  },
  {
   "cell_type": "code",
   "execution_count": 408,
   "metadata": {
    "colab": {
     "base_uri": "https://localhost:8080/"
    },
    "id": "udL52_ku3YJp",
    "outputId": "ab77b3e9-0373-40cb-e965-fade880b0f4f"
   },
   "outputs": [
    {
     "name": "stdout",
     "output_type": "stream",
     "text": [
      "id\n",
      "[   1    2    3 ... 6397 6398 6399]\n",
      "_____________________________________________________________________\n",
      "car_name\n",
      "['maruti swift' 'maruti alto 800' 'hyundai grand i10' 'maruti alto k10'\n",
      " 'maruti ritz' 'hyundai i20' 'hyundai elite i20' 'renault kwid'\n",
      " 'hyundai i10' 'honda brio' 'honda city' 'hyundai eon' 'hyundai verna'\n",
      " 'maruti alto' 'hyundai santro xing' 'maruti swift dzire' 'ford ecosport'\n",
      " 'nissan sunny' 'hyundai xcent' 'toyota etios liva' 'maruti celerio'\n",
      " 'maruti baleno' 'hyundai new elantra' 'honda amaze' 'hyundai creta'\n",
      " 'maruti wagon r 1.0' 'audi q3' 'maruti vitara brezza'\n",
      " 'toyota corolla altis' 'toyota innova' 'renault scala' 'maruti dzire'\n",
      " 'renault duster' 'tata tiago' 'maruti ertiga' 'datsun redi go'\n",
      " 'honda wr-v' 'mahindra xuv500' 'maruti sx4' 'volkswagen polo'\n",
      " 'maruti zen estilo' 'mahindra scorpio' 'toyota innova crysta' 'ford figo'\n",
      " 'mitsubishi outlander' 'volkswagen ameo' 'nissan terrano' 'toyota etios'\n",
      " 'volkswagen vento' 'audi a6' 'toyota fortuner' 'mahindra tuv300'\n",
      " 'maruti new  wagon-r' 'maruti xl6' 'tata harrier' 'honda civic'\n",
      " 'mercedes benz cla class' 'maruti ciaz' 'mahindra kuv100' 'maruti eeco'\n",
      " 'audi a3' 'tata nano' 'mahindra thar' 'chevrolet beat' 'maruti 800'\n",
      " 'chevrolet aveo u va' 'tata indica vista' 'kia seltos' 'hyundai venue'\n",
      " 'honda jazz' 'maruti s cross' 'bmw 3 series' 'toyota camry' 'ford fiesta'\n",
      " 'audi a4' 'maruti wagon r stingray' 'skoda laura' 'toyota corolla'\n",
      " 'skoda superb' 'maruti esteem' 'mahindra bolero' 'volvo s60'\n",
      " 'renault captur' 'mercedes benz e class' 'hyundai sonata transform'\n",
      " 'hyundai accent' 'maruti wagon r' 'mahindra e2o' 'maruti omni e'\n",
      " 'maruti a star' 'maruti ignis' 'hyundai i20 active' 'renault pulse'\n",
      " 'chevrolet spark' 'honda mobilio' 'hyundai getz prime'\n",
      " 'hyundai grand i10 nios' 'volkswagen cross polo' 'renault triber'\n",
      " 'ford figo aspire' 'fiat grand punto' 'nissan micra' 'chevrolet sail uva'\n",
      " 'toyota yaris' 'maruti wagon r duo' 'tata hexa' 'hyundai santa fe'\n",
      " 'maruti omni' 'mercedes benz c class' 'tata tigor' 'skoda octavia'\n",
      " 'chevrolet enjoy' 'skoda rapid' 'ford fiesta classic' 'datsun go'\n",
      " 'tata bolt' 'mahindra quanto' 'toyota glanza' 'hyundai new santro'\n",
      " 'mahindra marazzo' 'mg hector' 'tata nexon' 'volkswagen jetta'\n",
      " 'tata aria' 'maruti zen' 'mahindra renault logan' 'fiat linea'\n",
      " 'mahindra reva' 'ford freestyle' 'datsun go plus' 'hyundai santro'\n",
      " 'mahindra xylo' 'mahindra verito' 'maruti s presso' 'mahindra nuvosport'\n",
      " 'fiat punto evo' 'mercedes benz ml class' 'honda accord' 'honda city zx'\n",
      " 'mahindra xuv 3oo' 'isuzu d-max v cross' 'ssangyong rexton'\n",
      " 'chevrolet cruze' 'isuzu mu-7' 'skoda fabia' 'skoda yeti' 'tata safari'\n",
      " 'hyundai tucson new' 'bmw 5 series' 'hyundai aura' 'tata zest'\n",
      " 'mercedes benz cls class' 'bmw x1' 'jeep compass' 'toyota prius' 'bmw x3'\n",
      " 'tata manza' 'honda crv' 'tata sumo gold' 'tata indica v2'\n",
      " 'maruti celerio x' 'tata safari storme' 'ford ikon' 'ford new figo'\n",
      " 'nissan micra active' 'honda br-v' 'mercedes benz gla class'\n",
      " 'mahindra maxximo' 'tata indigo ecs' 'mg zs ev' 'renault lodgy'\n",
      " 'nissan nissan kicks' 'mercedes benz a class' 'fiat punto pure'\n",
      " 'opel astra' 'chevrolet optra magnum' 'nissan evalia' 'volvo xc 60'\n",
      " 'tata indigo cs' 'renault fluence' 'chevrolet optra' 'tata indica ev2']\n",
      "_____________________________________________________________________\n",
      "yr_mfr\n",
      "[2015 2016 2017 2013 2018 2012 2014 2008 2011 2010 2009 2019 2020 2005\n",
      " 2007 2006 2021 1999 2004 2001 2002 2003 2000 1996]\n",
      "_____________________________________________________________________\n",
      "fuel_type\n",
      "['petrol' 'diesel' 'petrol & cng' 'electric' 'petrol & lpg']\n",
      "_____________________________________________________________________\n",
      "kms_run\n",
      "[  8063  23104  23402 ... 274167 119634 101527]\n",
      "_____________________________________________________________________\n",
      "sale_price\n",
      "[ 386399  265499  477699 ...  531399  630000 1100000]\n",
      "_____________________________________________________________________\n",
      "city\n",
      "['noida' 'gurgaon' 'bengaluru' 'new delhi' 'mumbai' 'pune' 'hyderabad'\n",
      " 'chennai' 'kolkata' 'ahmedabad' 'faridabad' 'ghaziabad' 'lucknow']\n",
      "_____________________________________________________________________\n",
      "times_viewed\n",
      "[18715  2676   609 ...  3708  2559  3680]\n",
      "_____________________________________________________________________\n",
      "body_type\n",
      "['hatchback' 'sedan' 'suv' 'luxury sedan' 'luxury suv' nan]\n",
      "_____________________________________________________________________\n",
      "transmission\n",
      "['manual' nan 'automatic']\n",
      "_____________________________________________________________________\n",
      "variant\n",
      "['lxi opt' 'lxi' 'sports 1.2 vtvt' 'vdi' 'magna 1.2 vtvt' 'vxi (o) amt'\n",
      " 'asta 1.2' 'magna 1.4 crdi' 'rxl' 'sportz 1.2' 'sportz 1.4 crdi'\n",
      " '1.2 v mt i vtec' 'magna 1.2 kappa2' 's mt petrol' 'sportz 1.2 kappa2'\n",
      " 'd lite plus' 'vdi abs' '1.2 s mt i vtec' 'era plus'\n",
      " 'fluidic 1.6 sx crdi' 'vxi bs iv' 'magna o 1.2' 'gls' 'vxi'\n",
      " 'vxi 1.2 bs iv' '1.5 trend tdci' 'vdi bs iv' 'xl petrol' 's 1.1 crdi'\n",
      " 'magna o 1.4 crdi' 'd 4d gd' 'gl plus' 'sportz 1.2 kappa vtvt'\n",
      " 'fluidic 1.6 crdi s' 'vxi cng' 'alpha ddis 190' 'zdi' 'ldi bs iv'\n",
      " 's 1.6 mt' 'sportz o 1.4 crdi' '1.2 smt i vtec' '1.6 crdi sx plus auto'\n",
      " 'lxi cng' '1.5 emt i dtec' '2.0 tdi quattro mt' '1.6 sx crdi'\n",
      " 'asta 1.4 crdi' '1.5 exmt i dtec' 'sportz 1.4' 'd 4d j' '2.0 tdi'\n",
      " '2.5 vx 7 str bs iv' 'rxz' 'rxt' 'vxi opt. mt' 'sportz (o) 1.2 at vtvt'\n",
      " 'sportz(o) 1.2 mt' '85 ps rxl opt' '1.2 magna plus vtvt'\n",
      " 'xt 1.05 revotorq' '1.6 s' 'g' 'zxi smart hybrid' 't (o)' 'zxi'\n",
      " '1.2 i-vtec vx mt' 'zeta 1.2 k12' 'lxi 1.3' 'w8 fwd'\n",
      " 'comfortline 1.2l petrol' 'xt 1.2 revotron' 's8' '2.4 gx 7 str' 's10'\n",
      " '1.6 sx plus petrol' '1.4 zxi duratorq' '2.4 mivec'\n",
      " 'fluidic 1.6 sx crdi opt' 'fluidic 1.4 crdi cx' 'highline 1.5'\n",
      " 'lxi 1.2 bs iv' '1.5titanium tdci' 'xv 110 diesel' 'vxi genus'\n",
      " 'highline diesel' 'gl' '2.0 tdi quattro' '1.6 sx at crdi'\n",
      " '2.0 tdi premium plus' '3.0 at 4x2' '2.5 gx 7 str bs iv' 'lx bs iv'\n",
      " '1.0 t(o) at' 'zxi at' 't8 at' 'v mt petrol' 'lxi 1.0 l' 'era 1.1 irde'\n",
      " 'vx mt petrol' 's 1.1 crdi opt' '1.6 crdi sx + at' 'zdi plus'\n",
      " '1.6 crdi sx' '1.4 crdi ex mt' '1.5 titanium ti vct' 'fluidic 1.4 crdi'\n",
      " 'alpha shvs  mt' 'xz 2.0l kryotec' 'vx mt diesel' '1.8v at' 'vxi 1.3'\n",
      " 'magna 1.1 irde2' 'cla 200 cdi sport' '1.5 smt i dtec'\n",
      " 'alpha 1.3 ddis shvs' 'k4+ d 6 str' '1.5 e mt petrol' '7 str'\n",
      " '40 tfsi premium' 'w4' 'vl at' 'sv mt petrol' '3.0 mt 4x2' 'gls cng'\n",
      " 'w6 4x2' '1.0 rxt opt' 'delta 1.2 k12' '1.0 rxt' 'xt twist'\n",
      " 'sportz 1.1 irde2' 'alpha 1.2 k12' 'crde 4x4 bs iv' 'ls diesel'\n",
      " '3.0 mt 4x4' 'vdi amt' 's11' 's6+ intell hybrid' 'dx' 'xp' '1.2'\n",
      " '1.5 exi' 'lx tdi bs iii' 'fluidic 1.6 ex crdi'\n",
      " 'vdi elate limited edition' 'zxi 1.3' 'alpha 1.5 at vtvt shvs'\n",
      " 'magna 1.2 kappa vtvt' 'vxi amt' '1.2 e mt i vtec' 'era 1.2 vtvt'\n",
      " 'magna 1.2' 'd-4d vxd' 'sportz 1.2 vtvt' 'vxi plus' 'sx 1.2 opt'\n",
      " 'htx 1.5 diesel' 'zdi + amt' 'sx(o) crdi' 'highline1.2l petrol'\n",
      " '1.2 v mt' 'gd' '2.5 gx 8 str bs iv' 'sigma 1.3' '1.2 sat i vtec'\n",
      " 'delta 1.3 ddis shvs' '320d' 'vdi+ shvs' 'hybrid'\n",
      " 'asta 1.2 kappa vtvt opt' 'titanium plus petrol at' 'magna plus'\n",
      " '2.0 tdi s line' 'vdi plus' '1.5 titaniumtdci opt' 'w10 at fwd'\n",
      " '35 tdi quattro' '2.5 vx 8 str bs iv' '1.6 sx (o) crdi'\n",
      " 'trendline 1.2l petrol' 'era plus (o)' 's5 2wd'\n",
      " 'vxi elate limited edition' '1.2 v at' '1.6 sx plus se' '1.2 base i vtec'\n",
      " 'k10 vxi at' '1.8 g' 'fluidic 1.6 ex vtvt' 'highline petrol at'\n",
      " 'sportz1.2 crdi' 'vxi abs' 'xz 1.2 revotron' 'trendline 1.0 l petrol'\n",
      " '1.5 trend ti vct' '1.2 v cvt i vtec' 'zx cvt petrol' 'rxt opt'\n",
      " 'sportz 1.2 o' 'vdi opt' 'fluidic 1.6 sx vtvt' '1.4 e plus crdi'\n",
      " 'vx (o) petrol' 'zdi+ shvs rs mt' 'ambiente 1.8 tsi' 's at' 'w10 at'\n",
      " 'zeta ddis 190' '1.6 sx at petrol' 'cross 1.4 gd' 'zdi plus dual tone'\n",
      " 'zdi amt' 'gt tsi 1.2 petrol at' '1.5 tdci titanium plus'\n",
      " '5 str cng with ac plushtr' '1.2 zxi duratec' 'he 1.8 j'\n",
      " 'elegance tdi 2.0 at' 'sle' 'sportz at 1.2 kappa vtvt' 'kinetic d4'\n",
      " 'zdi+ dual tone amt' '1.5 platine diesel' 'e 220 cdi elegance'\n",
      " '2.0 crdi at' 'gls 1.6 abs' 'xl erlx euro iii' 'era' 'trendline diesel'\n",
      " 'lxi minor' 'magna 1.1 crdi' 'fluidic 1.6 crdi sx opt' 'w10'\n",
      " 'vlx 2wd airbag bs iv' 'sportz 1.4 crdi 6 speed bs iv' 'climber 1.0 at'\n",
      " 'zxi amt' 'sx at 1.2 opt' '5 str with ac plushtr' 'lx' 't2' 'std'\n",
      " 'sportz 1.2 at kappa2' 'vx quadrajet' 'zxi 1.2 bs iv'\n",
      " 'rxt 1.0 easy-r  at' 'zxi opt amt' '1.0 rxl' 'twist xta'\n",
      " 'asta 1.2 o with sunroof' 'magna' 'vxi abs at' '8 str'\n",
      " 'rxt 1.0 easy-r at option' 'zxi abs' 'vxi opt' 'delta 1.2 k12 amt'\n",
      " 'zxi plus amt' 'k6 d 6 str' '1.8 gl' 'zxi opt' '1.2 sx' 'vxi+ (o) mt'\n",
      " 'rxl1.0 easy-r at' 'asta 1.2 at vtvt' 'asta at 1.2 kappa vtvt'\n",
      " 'rx l petrol' 'ls 1.0' 'magna o' 'asta 1.2 (o) vtvt' '1.5 v i vtec'\n",
      " 'alpha 1.2 k12 dual tone' 's 1.2' '1.1 gvs' 'magna 1.2 at' 'v  limited'\n",
      " 'sportz 1.2 at' 'sportz (o) 1.4' 'comfortline 1.2l diesel'\n",
      " 'vxi regal limited edition' 'asta 1.2 (o)' 'ls petrol' '1.4 exi duratorq'\n",
      " '1.2 exi duratec' 'vxi (o)1.ol ags' 'delta 1.5 shvs vvt at' 'lt petrol'\n",
      " '1.5 v cvt i-dtec' 'xi' 'xo erlx euro iii' 'highline petrol' 'vxi bs iii'\n",
      " 'zxi plus' '1.4 crdi asta (o)' 'rxl pack diesel 85' '1.2 sv petrol'\n",
      " 'vx  1.2' 'vdi shvs' 'highline plus dsg 1.5' 'rxz diesel 110' 'gt tsi'\n",
      " '1.2 trend+ petrol' '1.5 v mt' '1.2 titanium duratec' 'active 1.3'\n",
      " 'gls lpg' 'zxi mt bs iv' '1.2 ls abs' 'j mt' '1.4 sx'\n",
      " '1.5 titanium ti vct at' 'rxe petrol mt' '1.6 sx vtvt' 'rxl petrol 104'\n",
      " '1.5 titanium plus ti vct at' 'vxi (o)' 'zeta 1.3' 'active 1.2'\n",
      " 'highline1.2l diesel' 'asta 1.2 dual tone' 'lxi lpg' 'varicor 400 xta'\n",
      " 'k8 d 6 str' 'gt tdi 1.6 mt diesel' '1.6 zxi abs' 'dynamic 1.3'\n",
      " '1.0l turbo gdi sx mt' 'vxi minor' '2.8 zx at 7 str' 'highline tdi at'\n",
      " 'w4 4x2' '1.6 sx vtvt at (o)' '4wd at' 'emotion 1.3' '2.5 v 8 str'\n",
      " 'sx 1.8 at' 'ambiente 2.0 tdi cr at' 'lt 1.0' '2.5 zx 7 str bs iv'\n",
      " '1.4 titanium duratorq' 'aura 1.3 quadrajet' '5 seater' '2.5 g4 8 str'\n",
      " '2.5 v 7str' 'ldi' '250 cdi avantgarde' 'fluidic 1.6 sx vtvt opt'\n",
      " 'zdi plus shvs' 'rxz amt 110 ps' 'xl cvt' '1.0 rxz' 'vx'\n",
      " '1.6 sx plus auto petrol' 'alpha 1.2 k12 amt' 'vxi 1.0' 's 1.2 opt'\n",
      " '1.0 s at' '1.0 vxi (o)' 'fluidic 1.6 crdi sx opt at' '85 ps rxl'\n",
      " 'zeta 1.2 k12 amt' 'elegance 2.0 tdi cr at' '1.0l turbo gdi sx(o) mt'\n",
      " '1.4 ls 8 str' 'zeta 1.2 k12 cvt' '1.5 tdi at style plus' '35tdi'\n",
      " '1.4 clxi tdci' '1.0 ecoboost titanium' 'd lite' '5 str' 't'\n",
      " 'cross 1.2 g' 'xe 1.2 revotron' 'zxi 1.2' 'ls 1.0 lpg'\n",
      " 'lx special edition' 'fluidic 1.6 vtvt s (o)  mt' 'lt opt petrol'\n",
      " 'climber 1.0' 'v' 'zxi+ bs iv' 'xm revotron' 'c8' 'v cvt' 'sle bs iv'\n",
      " '1.1 sports amt' 'highline1.5l diesel' 'xza 1.2 revotron' 'power+ sle'\n",
      " 'm8 8 str' '1.6 tdi mt ambition plus' 'zdi shvs' 'xz+ 1.2 revotron'\n",
      " 'sharp dct petrol' 'xm 1.5' 'rxl amt 110 ps' 'xm 1.2' 'xv petrol'\n",
      " 'rxs cvt 106 ps' 'trendline 1.2l diesel' 'w11 (o)' 'gle'\n",
      " 'xza + 1.2 petrol a/t' '1.0 ecoboost titanium sports(sunroof)'\n",
      " 'trendline 2.0l tdi' 'w10 at awd' 'pure 4x2' 'gt tdi'\n",
      " 'ambiente 2.0 tdi cr mt' '1.8 tsi lk at' '1.4 exi tdci' 'd 4d g'\n",
      " 'elegance 1.6 tdi mt' 'xl p' 'glx 1.4' 'alpha shvs' 'emotion pk 1.4' 's5'\n",
      " 'e20 t2' 'high line plus 1.0' 'titanium 1.2 ti-vct mt'\n",
      " '1.4 gtx+ turbo gdi petrol at' '2.5 g1 bs iv' '2.5 g2 7 seater' 'l2'\n",
      " '1.5 sv i dtec' '320d highline' 'gls at' '2.5 g1' 'zdi+ shvs'\n",
      " '1.5 v opt. i vtec' 'd2 bs iv' '1.5 d2 bs iv' 'vxi abs air bag'\n",
      " 'vgt crdi sx abs' 'comfortline plus 1.0' '1.2 vx at i vtec'\n",
      " '1.2 vx mt i vtec' 'fluidic 1.4 ex crdi' 'htk plus 1.5 diesel'\n",
      " '1.2 select i vtec' 'asta 1.2 vtvt' 'magna executive 1.2'\n",
      " '1.2 s (o) mt ivtec' 'delta ddis 190' 'alpha 1.3' 'vdi (o) shvs hybird'\n",
      " 's mt diesel' '85 ps rxe' '1.4 s crdi' '1.6 tdi mt ambition' 'n6 mhawk'\n",
      " '1.5 i-dtec s mt' 'h2 1.8 e' 'zdi plus amt' 'w6 at' 'g at' 's6 plus'\n",
      " 'xe 85 ps deisel' 'elegance 1.6 mpfi at' 't6+' 'multijet 1.3 90 hp'\n",
      " 'gd exclusive' '1.5 s i vtec' '1.6 e + vtvt' 'shvs vdi' 'e mt diesel'\n",
      " 'ambition 1.6 mpi mt plus' '250 cdi' '1.5 ambiente tdci' 'vx mt o diesel'\n",
      " '1.6 sx plus diesel' 'sx 1.1 crdi' 'd 4d gd sp' 't8' 'v mt diesel'\n",
      " 'sportz 1.1 crdi' '1.5 vxmt i dtec' '1.4 s plus crdi' 'neotech 1.0 easyr'\n",
      " 'kraz at petrol' 'rxl diesel 110' '2.8 gx at 7 str' '2.4 mt' 'gxi'\n",
      " 'c 220 cdi avantgarde' 'w9' 'asta 1.4 crdi 6 speed' 'xt revotron' 'g sp'\n",
      " 'sv mt diesel' 'era 1.4 crdi' 'k2 6 str' 'sportz petrol' 'w4 petrol'\n",
      " 'fluidic 1.6 sx vtvt opt at' 'vdi glory edition' 'vx cvt petrol'\n",
      " 'd 4d vd' 'zx cvt' 'comfortline 2.0l tdi' 'alpha 1.5 mt vvt shvs'\n",
      " 'lxi cng 1.0 l' '1.2 vxmt i vtec' 'ldi opt' 'tour s diesel'\n",
      " '1.0 ecoboost titanium opt' '4*4 mt' '30 tdi premium' 's10 7 str' 'rx7'\n",
      " 'vlx 2wd bs iv' 'w10 fwd' 'rxl plus diesel 85' '2.4 vx 8 str'\n",
      " 'sv cvt petrol' '5 str with ac plus htr' 'ltz' '110 ps rxz diesel plus'\n",
      " '3.0 at 4x4' 'e 250 cdi classic' 'high 4x2 mt' 'fluidic 1.6 crdi sx at'\n",
      " 'i' 'vx dual tone' 'sigma 1.2 k12' '2.0 tdi 174bhp prm plus' '1.8v mt'\n",
      " 'zeta shvs petrol' 'ambiente 1.2 mpi' '2.8 4x2 at' 'ambition 2.0 tdi 4x2'\n",
      " 'delta 1.3' 'vtec' 'magna 1.2 crdi' 'asta 1.1 (o) crdi' '1.3 lt 7 str'\n",
      " 'vgt crdi sx 1.5' '4x2 lx dicor 2.2 vtt' '2wd at gl diesel' '1.6 sx mt'\n",
      " 'xo erlx euro ii' 'xg' 'c4' 'xg erlx euro iii' 'executive gle'\n",
      " 'zeta 1.4 vvt amt' 'aura quadrajet bs iv' '520d' '2.4 vti l at'\n",
      " 'aqua safire bs iii' '1.2 emt i vtec' '2.5 g4 7 str'\n",
      " 'asta 1.2 kappa vtvt' 'xl erlx euro ii' '1.6 sxi abs' '1.2 s'\n",
      " 'sportz (o) 1.2' 'delta 1.2 k12 at' 'sx 1.2' 'xcite' 'g cvt'\n",
      " 'zeta 1.3 ddis shvs' 'asta 1.1 crdi' 'v at' '1.5 i-dtec vx mt'\n",
      " 'highline 1.2 tsi at' 'j cvt' 'xma 1.5' 'zxi abs amt' '1.8 tsi style at'\n",
      " 'w11 at' 'vd' '2.0 tdi cr lk at' 'c220 cdi grand edition'\n",
      " '1.2 exmt i vtec' '2.5 g3 8 str' 'revotron xt' 'highline 1.2'\n",
      " 'sx o mt 1.2 diesel' 'magna plus optional'\n",
      " 'lxi cng avance limited edition' 'k6+ d 6 str' 'cross 1.5 v'\n",
      " 'gtx + at petrol' 'sportz' 'trendline petrol' 'vxi musik edition'\n",
      " 'xl plus 85 ps deisel' 'fluidic 1.6 vtvt sx at' '1.2 s mt' 'k8 6 str'\n",
      " 'k6+ 6 str' 'vdi dual tone' 'vxi optional' '1.2 s cvt i vtec'\n",
      " 'xm rt 90 ps abs' '350 blue efficiency' 'trendline 1.6' 'era 1.2'\n",
      " 'highline 1.5l at (d)' 'w8(o)' '200 cgi avantgarde'\n",
      " '1.0 turbo gdi sx+ at' '1.2 sx mt i vtec' '250 cdi elegance at'\n",
      " 'sdrive 20d' 'xza+ 1.5' '2.0 limited' '1.6 sx (o) crdi mt'\n",
      " 'elegance 1.8 tsi at' 'xl diesel' '2.0 longitude' '1.5 elegance tdi mt'\n",
      " '2.8 4x2 mt' 'c 220 cdi classic' 'v mt sunroof' 'delta 1.6'\n",
      " 'touring sport diesel at' '2.8 gx at 8 str' 'zdi shvs hybird'\n",
      " 'h4 abs bs iv' 'fluidic 1.4 vtvt' 'vxi smart hybrid' 'asta 1.2 kappa2'\n",
      " '2.4 at i vtec' 'highline 1.6l petrol' 'lxi cng opt' '1.8 z3' 'ltz at'\n",
      " 'd 4d gl' 'e 250 cdi elegance' 'active 2.0 tdi 4x2' 'xv diesel'\n",
      " '520d 2.0' 'xdrive 20d' 'rxl 110 ps adventure' '1.5 v i dtec' 's10 at'\n",
      " '1.6 sx (o) vtvt' 'slx bs iv' 'm8 7 str' 'ambition plus 1.2 tdi'\n",
      " '2wd at gls petrol' '1.6 sx plus vtvt' 'aura abs safire bs iv'\n",
      " 'delta 1.4 vvt' 'limited (o) 2.0' '1.5 vtec plus'\n",
      " 'vxi cng anniversary edition' 's9' 'zxi smart hybrid at'\n",
      " '320d luxuryline' '2.4 at' 'xv d thp premium 110 ps' '2.8 4x4 at' 'e 1.0'\n",
      " 'dle 1.5 dci' '110 ps rxz diesel opt' 'ex' 'dls' 'era 1.1 1rde2'\n",
      " '1.6 sx (o) at crdi' 'comfortline 1.2' '1.2 sports plus vtvt' '2.0 sport'\n",
      " '2.4 at 4wd avn' '2.0 limited 4*2' 'rs 1.0 petrol' 'power+ zlx'\n",
      " 'sport 1.3' '1.5 tdi mt elegance' 'comfortline diesel' 'e8 abs bs iv'\n",
      " '200 elegance' 's 1.8 mt' 'vxi 1.2l' '1.2  asta (o) cvt' 'zeta shvs'\n",
      " '2.0 2wd at' 'magna 1.1 lpg' 's2' 'xms quadrajet 90ps' 'gl plus lpg'\n",
      " '1.5 sx mt i dtec' '1.2 s vtvt' '2.2 vx 4x2' 'vxi limited edition'\n",
      " 'zxi leather amt' 'comfortline tsi at' 'comfortline tdi at'\n",
      " 'comfortline 1.0' 'vd limited edition' 'limited 1.4 at' 'k4 6 str'\n",
      " 'xz 1.2 revotron opt' '1.5 trend diesel' 'w7 fwd' 'fluidic 1.4 vtvt cx'\n",
      " 'rxz 110 4wd' '1.2 lxi duratec' 'elegance 1.2 mpi' '2.5 g3' '4x2 lx'\n",
      " 'tour' '280 cdi elegance' '2.8 tfsi technology' 'asta 1.1 crdi opt' 'le'\n",
      " '1.3 flair' 'asta 1.2 at with sunroof' '1.2 titanium' 'xe diesel'\n",
      " 'sharp hybird petrol mt' '2.4 zx 7 str' '1.6 sx vtvt (o)' 'xv'\n",
      " '1.0 rxt opt at' 'vxi plus ags' 'vxi at' 'xv s' 'era plus lpg'\n",
      " '2.4 gx 8 str' '2.4 vx 7 str' '1.5 trend+ tdci' 'magna plus blue drive'\n",
      " 'ambition 1.6 mpfi mt' 'style 1.6 mpi mt' '1.5 i-vtec v cvt'\n",
      " 'transform 1.6 vtvt' 'highline 1.0 petrol' '1.5 titanium' 'vgt crdi'\n",
      " '4x2 ex dicor bs iv' 'sportz o 1.2' '1.2 sports plus vtvt cvt'\n",
      " 'ps diesel' 'zdi plus 1.5 diesel' 'comfortline 1.5l diesel'\n",
      " '1.5 ecosport titanium sports(sunroof)' 't 10 mt dual tone'\n",
      " 'ambition 1.6 tdi mt' 'ls' '200 cdi sport' '2.5 e' '7 seater'\n",
      " 'ls cr4 bs iv' 'vx d' '2.2 vx 4x4' 'exclusive' 'magna 1.2 at  vtvt'\n",
      " 'vxi deca' '1.2 vx at' 'alpha 1.4 vvt amt' '110 ps rxz 8 str'\n",
      " 'magna executive diesel' 'xl cvt (petrol)' '1.4 crdi s mt'\n",
      " '1.5 titanium sports edition' 'zdi +' 'sigma ddis 190'\n",
      " 'zlx special edition' '1.5 tdi at ambition' '1.2 s crdi' '525d'\n",
      " 'emotion pack 1.3 90 hp' '1.6 base' 'a180 cdi style'\n",
      " 'h8 abs airbag bs iv' 'xe revotron' '1.0 climber opt amt' 'vxi plus amt'\n",
      " '1.0 lxi (o)' '1.2 fire' 'comfortline 1.0 petrol' '1.2 titanium petrol'\n",
      " '1.2 sv mt' 'titanium + 1.2 ti-vct' '1.5 trend' 'xms rt' 'asta petrol'\n",
      " '200 cgi spotrs' 'sigma 1.3 ddis shvs' 'style 1.5 tdi at' 'lt diesel'\n",
      " 'xxi' 'emotion 1.3 multijet' 'sportz 1.1' '1.3 ls 8 str' 'xza+ 1.2 rtn'\n",
      " 'dynamic 1.3 multijet' 'zlx' 'ambiente' 'elegance 1.8 tsi mt'\n",
      " 'titanium 1.5 tdci' 'trend 1.2 ti-vct' '85 ps rxe diesel adventure'\n",
      " 'e plus' 'dls 1.5 dci' '1.1 magna mt' 'asta 1.1 mt' 'varicor 400 xma'\n",
      " '1.6' 'lt 1.6' 'rev 116' 'ps petrol' '1.4 base' 's 1.0' 'zeta 1.3 shvs'\n",
      " '1.6 crdi sx(o) executive' '1.5 i-vtec s' 'era 1.2 kappa vtvt' 's mt'\n",
      " 'xv cvt' 's' '1.2 s i - vtech  alive edition mt' '2.0 longitude (o)'\n",
      " 'lxi krest limited edition' '1.5 alpha shvs' '200 cdi style' 'xz+ 1.2'\n",
      " 'delta shvs' '1.5 i- dtec v' 'sharp 2.0 diesel' 't6+ at' '1.6 sx (o)'\n",
      " 'xe' 'rxe petrol 104' 'sx 1.6 crdi' '35 tdi technology' 'summum d4'\n",
      " 'summum d3' 'lx tdi' '1.4 zxi tdci' 'lxi utsav limited addition'\n",
      " 'dlg dicor bs iii' '1.4 exi' '1.5 e2' 'ps 1.0' 'dlg bs iii'\n",
      " 'xz 1.05 revotorq' 'ldi o' 'comfortline 1.4 tsi mt' 'xe 2.0l kryotec'\n",
      " 'vlx airbag bs iv' '4wd' '1.2 ex mt i vtec' 'zeta 1.4 vvt'\n",
      " 'sport plus petrol' '1.2 trend petrol' '1.2 vx i-vtech' '1.6 sx at'\n",
      " 't8 dual tone' '30 tdi quattro' 'rxl 85ps explore' 'zeta 1.5 shvs vvt mt'\n",
      " 'sle bs iii' 'rx 6' 'executive' 'xm rt' '2.0 tdi 174bhp' '328i sportline'\n",
      " 'alpha 1.4 vvt' '1.6 sx crdi dual tone' 'xt rt' 'power+ slx'\n",
      " '1.2 i-vtec s mt edge edition' 'xz+ 1.5' '525d luxury'\n",
      " '4x2 ex dicor 2.2 vtt' 'xe 1.05 revotorq' 'ambition 2.0 tdi cr'\n",
      " 'vgt crdi sx']\n",
      "_____________________________________________________________________\n",
      "assured_buy\n",
      "[ True False]\n",
      "_____________________________________________________________________\n",
      "registered_city\n",
      "['delhi' 'noida' 'agra' 'new delhi' 'gurgaon' 'ghaziabad' 'panchkula'\n",
      " 'meerut' 'faridabad' 'goutam  budd  nagar' 'bareilly' 'bulandshahr'\n",
      " 'jhajjar' 'auraiya' 'raebarely' 'sonipat' 'navi mumbai' 'mathura'\n",
      " 'hathras' 'kanpur' 'lucknow' 'bulandshahar' nan 'badaun' 'yamunanagar'\n",
      " 'palwal' 'sohana' 'bhiwani' 'karnal' 'rewari' 'ambala' 'rohtak'\n",
      " 'mahendragarh' 'aligarh' 'chandigarh' 'gorakhpur' 'bahadurgarh' 'bawal'\n",
      " 'sonepat' 'jhalawar' 'delhi west' 'mumbai west' 'charkhi dadri' 'pali'\n",
      " 'hisar' 'banglore-cafe dly' 'bengaluru' 'bangalore south'\n",
      " 'bangalore central' 'mysore' 'chikamagalur' 'electronic city'\n",
      " 'bangalore k r puram' 'chickballapur' 'kolar' 'devanahalli' 'gulbarga'\n",
      " 'tumkur' 'belgaum' 'ullal' 'dharward' 'dharwad' 'mangalore' 'karwar'\n",
      " 'sagar' 'madikeri' 'udupi' 'bidadi' 'chikmagalur' 'bangaloresouth'\n",
      " 'saharanpur' 'meham' 'kaithal' 'surat' 'rothak' 'ranchi' 'jalandhar'\n",
      " 'panipat' 'rangareddy' 'rampur' 'mumbai' 'panvel' 'mumbai east' 'thane'\n",
      " 'dombivali' 'vasai' 'virar' 'airoli' 'navimumbai' 'badlapur' 'kalyan'\n",
      " 'pen' 'pune' 'nerul' 'vashi' 'ambernath' 'nalasopara' 'nashik' 'nagpur'\n",
      " 'thane (w)' 'mira road' 'ulhasnagar' 'bhayander' 'sanpada' 'ratnagiri'\n",
      " 'raigarh' 'mumbai atc' 'palghar' 'shriwardhan' 'bhiwandi' 'alibag'\n",
      " 'kharghar' 'belapur' 'kalamboli' 'wada' 'goregaon' 'mahad' 'kalwan'\n",
      " 'satara' 'jalgaon' 'yavatmal' 'solapur' 'kolhapur' 'chandrapur'\n",
      " 'aurangabad' 'malvani' 'baramati' 'osmanabad' 'sindhudurg' 'latur'\n",
      " 'ahmednagar' 'karad' 'khopoli' 'amravati' 'shrirampur' 'beed' 'raipur'\n",
      " 'hyderabad' 'ananthapur' '-do' 'proddatur' 'vijayawada' 'srikakulam'\n",
      " 'ravulapalam' 'guntur' 'vishakapatnam' 'vishakhapatanam' 'east godavari'\n",
      " 'visakhapatnam' 'bhimavaram' 'kurnool' 'tirupati' 'eluru' 'kakinada'\n",
      " 'tadepalligudem' 'dantewada' 'rajahmundry' 'kolkata' 'chennai'\n",
      " 'chennai west' 'chennai south' 'vellore' 'chengalpattu' 'tiruchirappalli'\n",
      " 'ranipet' 'tiruvananamalai' 'sivagangai' 'kanchipuram' 'arantangi'\n",
      " 'tiruvannamalai' 'tiruvallur' 'pudukkottai' 'karaikudi' 'salem'\n",
      " 'thanjavur' 'sholinganallur' 'trichy' 'madurai' 'madurantakam'\n",
      " 'tirupattur' 'tiruppur' 'hosur' 'neyveli' 'cheyyar' 'sriperumbudur'\n",
      " 'virudhunagar' 'howrah' 'kolkatta south' 'barasat' 'balurghat'\n",
      " 'kharagpur' 'ahmedabad' 'gandhinagar' 'ahmedabad east' 'gandhi nagar'\n",
      " 'vadodara' 'jamnagar' 'valsad' 'palanpur' 'rajkot' 'himatnagar'\n",
      " 'bhavnagar' 'patan' 'navsari' 'mehsana' 'khambhalia' 'nadiad' 'anand'\n",
      " 'bavla' 'bardoli' 'bharuch' 'bhuj' 'rajpipala' 'dahod' 'botad'\n",
      " 'surendranagar' 'mahesana' 'muzaffarnagar' 'allahabad' 'dehardun'\n",
      " 'muzafarnagar' 'kashipur' 'etawah' 'faizabad' 'gonda' 'bahraich'\n",
      " 'sultanpur' 'haridwar' 'sitapur' 'hardoi' 'pratapgarh']\n",
      "_____________________________________________________________________\n",
      "registered_state\n",
      "['delhi' 'uttar pradesh' 'haryana' 'maharashtra' nan 'rajasthan'\n",
      " 'karnataka' 'gujarat' 'jharkhand' 'punjab' 'andhra pradesh'\n",
      " 'chhattisgarh' 'telangana' 'west bengal' 'tamil nadu' 'chandigarh'\n",
      " 'uttarakhand']\n",
      "_____________________________________________________________________\n",
      "is_hot\n",
      "[ True False]\n",
      "_____________________________________________________________________\n",
      "rto\n",
      "['dl6c' 'up16' 'up80' 'dl1c' 'dl12' 'dl2c' 'dl9c' 'hr26' 'dl7c' 'up14'\n",
      " 'dl10' 'dl3c' 'hr03' 'dl13' 'dl8c' 'up15' 'hr51' 'dl11' 'dl4c' 'hr29'\n",
      " 'dl5c' 'up25' 'up13' 'hr14' 'up79' 'up33' 'hr10' 'mh43' 'up85' 'up86'\n",
      " 'up78' 'hr72' 'hr95' 'dl14' 'up32' 'up24' 'hr02' 'hr16' 'hr05' 'hr27'\n",
      " 'hr36' 'hr01' 'hr12' 'hr45' 'up81' 'hr70' 'hr30' 'hr55' 'up53' 'hr13'\n",
      " 'hr81' 'hr89' 'rj14' 'hr76' 'mh02' 'rj22' 'hr19' 'ka03' 'ka41' 'ka53'\n",
      " 'ka05' 'ka04' 'ka02' 'ka09' 'ka18' 'ka51' 'ka01' 'ka40' 'ka13' 'ka50'\n",
      " 'ka43' 'ka19' 'ka32' 'ka06' 'ka28' 'ka23' 'ka52' 'ka20' 'ka07' 'ka25'\n",
      " 'ka08' 'ka42' 'ka12' 'ka26' 'ka22' 'ka31' 'ka30' 'up11' 'hr35' 'dl05'\n",
      " 'hr15' 'hr08' 'gj05' 'hr87' 'hr34' 'jh01' 'pb08' 'hr06' 'ap28' 'hr20'\n",
      " 'mh46' 'mh01' 'mh03' 'mh47' 'mh04' 'mh48' 'mh05' 'mh06' 'mh12' 'mh28'\n",
      " 'mh14' 'mh40' 'mh31' 'mh49' 'mh15' 'mh08' 'mh09' 'mh16' 'mh11' 'mh19'\n",
      " 'mh29' 'mh45' 'mh34' 'mh20' 'mh42' 'mh13' 'mh10' 'mh41' 'mh27' 'mh17'\n",
      " 'mh23' 'cg04' 'ap09' 'ts09' 'ap02' 'ap29' 'ts07' 'ts10' 'ts08' 'ap16'\n",
      " 'ap10' 'ap11' 'ts11' 'ts12' 'ap13' 'ts03' 'ap04' 'ap25' 'ts15' 'ap24'\n",
      " 'ap39' 'ap05' 'ap23' 'ts13' 'ap07' 'ap12' 'ap31' 'ap20' 'ts27' 'ap36'\n",
      " 'ts02' 'ts06' 'ap37' 'cg18' 'wb20' 'ap22' 'tn01' 'tn06' 'tn09' 'tn07'\n",
      " 'tn67' 'tn10' 'tn12' 'tn02' 'tn13' 'tn05' 'tn11' 'tn22' 'tn18' 'tn76'\n",
      " 'tn14' 'tn73' 'tn20' 'tn31' 'tn19' 'tn03' 'tn85' 'tn45' 'tn24' 'tn25'\n",
      " 'tn04' 'tn59' 'tn21' 'tn55' 'tn87' 'tn54' 'tn30' 'tn60' 'tn49' 'tn48'\n",
      " 'tn58' 'tn83' 'tn50' 'tn75' 'tn46' 'tn47' 'tn70' 'tn23' 'wb06' 'wb14'\n",
      " 'wb02' 'wb26' 'wb08' 'wb22' 'wb24' 'ch03' 'gj01' 'gj18' 'gj27' 'gj07'\n",
      " 'gj15' 'gj06' 'gj10' 'gj1k' 'gj12' 'gj08' 'gj03' 'gj23' 'gj21' 'gj04'\n",
      " 'gj24' 'gj38' 'gj19' 'gj16' 'gj02' 'gj22' 'gj20' 'gj1h' 'gj13' 'hr50'\n",
      " 'hr80' 'hr38' 'up70' 'uk07' 'up12' 'uk04' 'up42' 'up43' 'up44' 'up93'\n",
      " 'uk08' 'up34' 'up30' 'ch01' 'up72']\n",
      "_____________________________________________________________________\n",
      "source\n",
      "['inperson_sale' nan 'online' 'customer_to_customer']\n",
      "_____________________________________________________________________\n",
      "make\n",
      "['maruti' 'hyundai' 'renault' 'honda' 'ford' 'nissan' 'toyota' 'audi'\n",
      " 'tata' 'datsun' 'mahindra' 'volkswagen' 'mitsubishi' 'mercedes benz'\n",
      " 'chevrolet' 'kia' 'bmw' 'skoda' 'volvo' 'fiat' 'mg' 'mahindra renault'\n",
      " 'isuzu' 'ssangyong' 'jeep' 'opel']\n",
      "_____________________________________________________________________\n",
      "model\n",
      "['swift' 'alto 800' 'grand i10' 'alto k10' 'ritz' 'i20' 'elite i20' 'kwid'\n",
      " 'i10' 'brio' 'city' 'eon' 'verna' 'alto' 'santro xing' 'swift dzire'\n",
      " 'ecosport' 'sunny' 'xcent' 'etios liva' 'celerio' 'baleno' 'new elantra'\n",
      " 'amaze' 'creta' 'wagon r 1.0' 'q3' 'vitara brezza' 'corolla altis'\n",
      " 'innova' 'scala' 'dzire' 'duster' 'tiago' 'ertiga' 'redi go' 'wr-v'\n",
      " 'xuv500' 'sx4' 'polo' 'zen estilo' 'scorpio' 'innova crysta' 'figo'\n",
      " 'outlander' 'ameo' 'terrano' 'etios' 'vento' 'a6' 'fortuner' 'tuv300'\n",
      " 'new  wagon-r' 'xl6' 'harrier' 'civic' 'cla class' 'ciaz' 'kuv100' 'eeco'\n",
      " 'a3' 'nano' 'thar' 'beat' '800' 'aveo u va' 'indica vista' 'seltos'\n",
      " 'venue' 'jazz' 's cross' '3 series' 'camry' 'fiesta' 'a4'\n",
      " 'wagon r stingray' 'laura' 'corolla' 'superb' 'esteem' 'bolero' 's60'\n",
      " 'captur' 'e class' 'sonata transform' 'accent' 'wagon r' 'e 20' 'omni e'\n",
      " 'a star' 'ignis' 'i20 active' 'pulse' 'spark' 'mobilio' 'getz prime'\n",
      " 'grand i10 nios' 'cross polo' 'triber' 'figo aspire' 'grand punto'\n",
      " 'micra' 'sail uva' 'yaris' 'wagon r duo' 'hexa' 'santa fe' 'omni'\n",
      " 'c class' 'tigor' 'octavia' 'enjoy' 'rapid' 'fiesta classic' 'go' 'bolt'\n",
      " 'quanto' 'glanza' 'new santro' 'marazzo' 'hector' 'nexon ' 'jetta' 'aria'\n",
      " 'zen' 'logan' 'linea' 'reva' 'freestyle' 'go plus' 'santro' 'xylo'\n",
      " 'verito' 's presso' 'nuvosport' 'punto evo' 'ml class' 'accord' 'city zx'\n",
      " 'xuv 3oo' 'd-max v cross' 'rexton' 'cruze' 'mu-7' 'fabia' 'yeti' 'safari'\n",
      " 'tucson new' '5 series' 'aura' 'zest' 'cls class' 'x1' 'compass' 'prius'\n",
      " 'x3' 'manza' 'crv' 'sumo gold' 'indica v2' 'celerio x' 'safari storme'\n",
      " 'ikon' 'new figo' 'micra active' 'br-v' 'gla class' 'maxximo '\n",
      " 'indigo ecs' 'zs ev' 'lodgy' 'kicks' 'a class' 'punto pure ' 'astra'\n",
      " 'optra magnum' 'evalia' 'xc60' 'indigo cs' 'fluence' 'optra' 'indica ev2']\n",
      "_____________________________________________________________________\n",
      "car_availability\n",
      "['in_stock' 'in_transit' nan 'out_of_stock' 'pickup_pending']\n",
      "_____________________________________________________________________\n",
      "total_owners\n",
      "[2 1 3 4 5 6]\n",
      "_____________________________________________________________________\n",
      "broker_quote\n",
      "[397677 272935 469605 ... 519315 357000 170000]\n",
      "_____________________________________________________________________\n",
      "original_price\n",
      "[404177. 354313.     nan ... 454738. 358430. 633876.]\n",
      "_____________________________________________________________________\n",
      "car_rating\n",
      "['great' 'good' 'fair' nan 'overpriced']\n",
      "_____________________________________________________________________\n",
      "ad_created_on\n",
      "['2021-04-04T07:09:18.583' '2021-03-22T14:07:32.833'\n",
      " '2021-03-20T05:36:31.311' ... '2019-08-28T14:42:16.246'\n",
      " '2019-08-26T06:10:57.269' '2019-08-25T06:09:38.375']\n",
      "_____________________________________________________________________\n",
      "fitness_certificate\n",
      "[True False nan]\n",
      "_____________________________________________________________________\n",
      "emi_starts_from\n",
      "[ 8975  6167 11096 ...  8845 12343 25550]\n",
      "_____________________________________________________________________\n",
      "booking_down_pymnt\n",
      "[ 57960  39825  71655 ...  57120  79710 165000]\n",
      "_____________________________________________________________________\n",
      "reserved\n",
      "[False  True]\n",
      "_____________________________________________________________________\n",
      "warranty_avail\n",
      "[False  True]\n",
      "_____________________________________________________________________\n"
     ]
    }
   ],
   "source": [
    "for i in df.columns:\n",
    "  print(i)\n",
    "  print(df[i].unique())\n",
    "  print(\"_____________________________________________________________________\")\n",
    "  #printing unique values of each column"
   ]
  },
  {
   "cell_type": "markdown",
   "metadata": {
    "id": "bZfwqsyfzZlT"
   },
   "source": [
    "#Here i am replacing object type column missing values with their mode and numeric type columns with their mean"
   ]
  },
  {
   "cell_type": "code",
   "execution_count": 409,
   "metadata": {
    "id": "b022QI84837g"
   },
   "outputs": [],
   "source": [
    "cateogry_columns=df1.select_dtypes(include=['object']).columns.tolist()\n",
    "integer_columns=df1.select_dtypes(include=['int64','float64']).columns.tolist()\n",
    "\n",
    "for column in df1:\n",
    "    if df1[column].isnull().any():\n",
    "        if(column in cateogry_columns):\n",
    "            df1[column]=df1[column].fillna(df1[column].mode()[0])\n",
    "        else:\n",
    "            df1[column]=df1[column].fillna(df1[column].mean)"
   ]
  },
  {
   "cell_type": "code",
   "execution_count": 410,
   "metadata": {
    "colab": {
     "base_uri": "https://localhost:8080/",
     "height": 308
    },
    "id": "99nmgKGd0V_N",
    "outputId": "3182cc63-9b60-4f7c-c28f-dff7cdde7f9d"
   },
   "outputs": [
    {
     "data": {
      "text/html": [
       "<div>\n",
       "<style scoped>\n",
       "    .dataframe tbody tr th:only-of-type {\n",
       "        vertical-align: middle;\n",
       "    }\n",
       "\n",
       "    .dataframe tbody tr th {\n",
       "        vertical-align: top;\n",
       "    }\n",
       "\n",
       "    .dataframe thead th {\n",
       "        text-align: right;\n",
       "    }\n",
       "</style>\n",
       "<table border=\"1\" class=\"dataframe\">\n",
       "  <thead>\n",
       "    <tr style=\"text-align: right;\">\n",
       "      <th></th>\n",
       "      <th>car_name</th>\n",
       "      <th>yr_mfr</th>\n",
       "      <th>fuel_type</th>\n",
       "      <th>kms_run</th>\n",
       "      <th>sale_price</th>\n",
       "      <th>city</th>\n",
       "      <th>times_viewed</th>\n",
       "      <th>body_type</th>\n",
       "      <th>transmission</th>\n",
       "      <th>variant</th>\n",
       "      <th>assured_buy</th>\n",
       "      <th>registered_city</th>\n",
       "      <th>registered_state</th>\n",
       "      <th>is_hot</th>\n",
       "      <th>rto</th>\n",
       "      <th>source</th>\n",
       "      <th>make</th>\n",
       "      <th>model</th>\n",
       "      <th>car_availability</th>\n",
       "      <th>total_owners</th>\n",
       "      <th>car_rating</th>\n",
       "      <th>ad_created_on</th>\n",
       "      <th>fitness_certificate</th>\n",
       "      <th>booking_down_pymnt</th>\n",
       "      <th>reserved</th>\n",
       "      <th>warranty_avail</th>\n",
       "    </tr>\n",
       "  </thead>\n",
       "  <tbody>\n",
       "    <tr>\n",
       "      <th>0</th>\n",
       "      <td>maruti swift</td>\n",
       "      <td>2015</td>\n",
       "      <td>petrol</td>\n",
       "      <td>8063</td>\n",
       "      <td>386399</td>\n",
       "      <td>noida</td>\n",
       "      <td>18715</td>\n",
       "      <td>hatchback</td>\n",
       "      <td>manual</td>\n",
       "      <td>lxi opt</td>\n",
       "      <td>True</td>\n",
       "      <td>delhi</td>\n",
       "      <td>delhi</td>\n",
       "      <td>True</td>\n",
       "      <td>dl6c</td>\n",
       "      <td>inperson_sale</td>\n",
       "      <td>maruti</td>\n",
       "      <td>swift</td>\n",
       "      <td>in_stock</td>\n",
       "      <td>2</td>\n",
       "      <td>great</td>\n",
       "      <td>2021-04-04T07:09:18.583</td>\n",
       "      <td>True</td>\n",
       "      <td>57960</td>\n",
       "      <td>False</td>\n",
       "      <td>False</td>\n",
       "    </tr>\n",
       "    <tr>\n",
       "      <th>1</th>\n",
       "      <td>maruti alto 800</td>\n",
       "      <td>2016</td>\n",
       "      <td>petrol</td>\n",
       "      <td>23104</td>\n",
       "      <td>265499</td>\n",
       "      <td>noida</td>\n",
       "      <td>2676</td>\n",
       "      <td>hatchback</td>\n",
       "      <td>manual</td>\n",
       "      <td>lxi</td>\n",
       "      <td>True</td>\n",
       "      <td>noida</td>\n",
       "      <td>uttar pradesh</td>\n",
       "      <td>True</td>\n",
       "      <td>up16</td>\n",
       "      <td>inperson_sale</td>\n",
       "      <td>maruti</td>\n",
       "      <td>alto 800</td>\n",
       "      <td>in_stock</td>\n",
       "      <td>1</td>\n",
       "      <td>great</td>\n",
       "      <td>2021-03-22T14:07:32.833</td>\n",
       "      <td>True</td>\n",
       "      <td>39825</td>\n",
       "      <td>False</td>\n",
       "      <td>False</td>\n",
       "    </tr>\n",
       "    <tr>\n",
       "      <th>2</th>\n",
       "      <td>hyundai grand i10</td>\n",
       "      <td>2017</td>\n",
       "      <td>petrol</td>\n",
       "      <td>23402</td>\n",
       "      <td>477699</td>\n",
       "      <td>noida</td>\n",
       "      <td>609</td>\n",
       "      <td>hatchback</td>\n",
       "      <td>manual</td>\n",
       "      <td>sports 1.2 vtvt</td>\n",
       "      <td>True</td>\n",
       "      <td>agra</td>\n",
       "      <td>uttar pradesh</td>\n",
       "      <td>True</td>\n",
       "      <td>up80</td>\n",
       "      <td>inperson_sale</td>\n",
       "      <td>hyundai</td>\n",
       "      <td>grand i10</td>\n",
       "      <td>in_stock</td>\n",
       "      <td>1</td>\n",
       "      <td>great</td>\n",
       "      <td>2021-03-20T05:36:31.311</td>\n",
       "      <td>True</td>\n",
       "      <td>71655</td>\n",
       "      <td>False</td>\n",
       "      <td>False</td>\n",
       "    </tr>\n",
       "    <tr>\n",
       "      <th>3</th>\n",
       "      <td>maruti swift</td>\n",
       "      <td>2013</td>\n",
       "      <td>diesel</td>\n",
       "      <td>39124</td>\n",
       "      <td>307999</td>\n",
       "      <td>noida</td>\n",
       "      <td>6511</td>\n",
       "      <td>hatchback</td>\n",
       "      <td>manual</td>\n",
       "      <td>vdi</td>\n",
       "      <td>True</td>\n",
       "      <td>delhi</td>\n",
       "      <td>delhi</td>\n",
       "      <td>True</td>\n",
       "      <td>dl1c</td>\n",
       "      <td>inperson_sale</td>\n",
       "      <td>maruti</td>\n",
       "      <td>swift</td>\n",
       "      <td>in_stock</td>\n",
       "      <td>1</td>\n",
       "      <td>great</td>\n",
       "      <td>2021-01-21T12:59:19.299</td>\n",
       "      <td>True</td>\n",
       "      <td>46200</td>\n",
       "      <td>False</td>\n",
       "      <td>False</td>\n",
       "    </tr>\n",
       "    <tr>\n",
       "      <th>4</th>\n",
       "      <td>hyundai grand i10</td>\n",
       "      <td>2015</td>\n",
       "      <td>petrol</td>\n",
       "      <td>22116</td>\n",
       "      <td>361499</td>\n",
       "      <td>noida</td>\n",
       "      <td>3225</td>\n",
       "      <td>hatchback</td>\n",
       "      <td>manual</td>\n",
       "      <td>magna 1.2 vtvt</td>\n",
       "      <td>False</td>\n",
       "      <td>new delhi</td>\n",
       "      <td>delhi</td>\n",
       "      <td>True</td>\n",
       "      <td>dl12</td>\n",
       "      <td>inperson_sale</td>\n",
       "      <td>hyundai</td>\n",
       "      <td>grand i10</td>\n",
       "      <td>in_stock</td>\n",
       "      <td>1</td>\n",
       "      <td>great</td>\n",
       "      <td>2021-04-01T13:33:40.733</td>\n",
       "      <td>True</td>\n",
       "      <td>54225</td>\n",
       "      <td>False</td>\n",
       "      <td>False</td>\n",
       "    </tr>\n",
       "  </tbody>\n",
       "</table>\n",
       "</div>"
      ],
      "text/plain": [
       "            car_name  yr_mfr  ... reserved  warranty_avail\n",
       "0       maruti swift    2015  ...    False           False\n",
       "1    maruti alto 800    2016  ...    False           False\n",
       "2  hyundai grand i10    2017  ...    False           False\n",
       "3       maruti swift    2013  ...    False           False\n",
       "4  hyundai grand i10    2015  ...    False           False\n",
       "\n",
       "[5 rows x 26 columns]"
      ]
     },
     "execution_count": 410,
     "metadata": {
      "tags": []
     },
     "output_type": "execute_result"
    }
   ],
   "source": [
    "df1.head()"
   ]
  },
  {
   "cell_type": "code",
   "execution_count": 411,
   "metadata": {
    "colab": {
     "base_uri": "https://localhost:8080/"
    },
    "id": "QmvymN032wb5",
    "outputId": "2d899cae-81b6-48f6-85f5-c9efa2dc1dcc"
   },
   "outputs": [
    {
     "data": {
      "text/plain": [
       "car_name               0\n",
       "yr_mfr                 0\n",
       "fuel_type              0\n",
       "kms_run                0\n",
       "sale_price             0\n",
       "city                   0\n",
       "times_viewed           0\n",
       "body_type              0\n",
       "transmission           0\n",
       "variant                0\n",
       "assured_buy            0\n",
       "registered_city        0\n",
       "registered_state       0\n",
       "is_hot                 0\n",
       "rto                    0\n",
       "source                 0\n",
       "make                   0\n",
       "model                  0\n",
       "car_availability       0\n",
       "total_owners           0\n",
       "car_rating             0\n",
       "ad_created_on          0\n",
       "fitness_certificate    0\n",
       "booking_down_pymnt     0\n",
       "reserved               0\n",
       "warranty_avail         0\n",
       "dtype: int64"
      ]
     },
     "execution_count": 411,
     "metadata": {
      "tags": []
     },
     "output_type": "execute_result"
    }
   ],
   "source": [
    "df1.isnull().sum()"
   ]
  },
  {
   "cell_type": "code",
   "execution_count": 412,
   "metadata": {
    "colab": {
     "base_uri": "https://localhost:8080/",
     "height": 296
    },
    "id": "LKpwulgt2zgg",
    "outputId": "56d6b0ee-be87-4c31-84e9-334cd400799c"
   },
   "outputs": [
    {
     "data": {
      "text/html": [
       "<div>\n",
       "<style scoped>\n",
       "    .dataframe tbody tr th:only-of-type {\n",
       "        vertical-align: middle;\n",
       "    }\n",
       "\n",
       "    .dataframe tbody tr th {\n",
       "        vertical-align: top;\n",
       "    }\n",
       "\n",
       "    .dataframe thead th {\n",
       "        text-align: right;\n",
       "    }\n",
       "</style>\n",
       "<table border=\"1\" class=\"dataframe\">\n",
       "  <thead>\n",
       "    <tr style=\"text-align: right;\">\n",
       "      <th></th>\n",
       "      <th>yr_mfr</th>\n",
       "      <th>kms_run</th>\n",
       "      <th>sale_price</th>\n",
       "      <th>times_viewed</th>\n",
       "      <th>total_owners</th>\n",
       "      <th>booking_down_pymnt</th>\n",
       "    </tr>\n",
       "  </thead>\n",
       "  <tbody>\n",
       "    <tr>\n",
       "      <th>count</th>\n",
       "      <td>6399.000000</td>\n",
       "      <td>6399.000000</td>\n",
       "      <td>6.399000e+03</td>\n",
       "      <td>6399.000000</td>\n",
       "      <td>6399.000000</td>\n",
       "      <td>6399.000000</td>\n",
       "    </tr>\n",
       "    <tr>\n",
       "      <th>mean</th>\n",
       "      <td>2013.895921</td>\n",
       "      <td>62382.210970</td>\n",
       "      <td>4.546049e+05</td>\n",
       "      <td>1534.860916</td>\n",
       "      <td>1.325988</td>\n",
       "      <td>68190.888576</td>\n",
       "    </tr>\n",
       "    <tr>\n",
       "      <th>std</th>\n",
       "      <td>3.088329</td>\n",
       "      <td>43087.788245</td>\n",
       "      <td>2.779465e+05</td>\n",
       "      <td>1965.452173</td>\n",
       "      <td>0.574816</td>\n",
       "      <td>41692.006252</td>\n",
       "    </tr>\n",
       "    <tr>\n",
       "      <th>min</th>\n",
       "      <td>1996.000000</td>\n",
       "      <td>60.000000</td>\n",
       "      <td>0.000000e+00</td>\n",
       "      <td>3.000000</td>\n",
       "      <td>1.000000</td>\n",
       "      <td>0.000000</td>\n",
       "    </tr>\n",
       "    <tr>\n",
       "      <th>25%</th>\n",
       "      <td>2012.000000</td>\n",
       "      <td>31555.000000</td>\n",
       "      <td>2.822990e+05</td>\n",
       "      <td>554.000000</td>\n",
       "      <td>1.000000</td>\n",
       "      <td>42345.000000</td>\n",
       "    </tr>\n",
       "    <tr>\n",
       "      <th>50%</th>\n",
       "      <td>2014.000000</td>\n",
       "      <td>55490.000000</td>\n",
       "      <td>3.820990e+05</td>\n",
       "      <td>1080.000000</td>\n",
       "      <td>1.000000</td>\n",
       "      <td>57315.000000</td>\n",
       "    </tr>\n",
       "    <tr>\n",
       "      <th>75%</th>\n",
       "      <td>2016.000000</td>\n",
       "      <td>84145.000000</td>\n",
       "      <td>5.400000e+05</td>\n",
       "      <td>1912.000000</td>\n",
       "      <td>2.000000</td>\n",
       "      <td>81000.000000</td>\n",
       "    </tr>\n",
       "    <tr>\n",
       "      <th>max</th>\n",
       "      <td>2021.000000</td>\n",
       "      <td>996609.000000</td>\n",
       "      <td>3.600000e+06</td>\n",
       "      <td>46141.000000</td>\n",
       "      <td>6.000000</td>\n",
       "      <td>540000.000000</td>\n",
       "    </tr>\n",
       "  </tbody>\n",
       "</table>\n",
       "</div>"
      ],
      "text/plain": [
       "            yr_mfr        kms_run  ...  total_owners  booking_down_pymnt\n",
       "count  6399.000000    6399.000000  ...   6399.000000         6399.000000\n",
       "mean   2013.895921   62382.210970  ...      1.325988        68190.888576\n",
       "std       3.088329   43087.788245  ...      0.574816        41692.006252\n",
       "min    1996.000000      60.000000  ...      1.000000            0.000000\n",
       "25%    2012.000000   31555.000000  ...      1.000000        42345.000000\n",
       "50%    2014.000000   55490.000000  ...      1.000000        57315.000000\n",
       "75%    2016.000000   84145.000000  ...      2.000000        81000.000000\n",
       "max    2021.000000  996609.000000  ...      6.000000       540000.000000\n",
       "\n",
       "[8 rows x 6 columns]"
      ]
     },
     "execution_count": 412,
     "metadata": {
      "tags": []
     },
     "output_type": "execute_result"
    }
   ],
   "source": [
    "df1.describe() #gives statistical description about our numerical data"
   ]
  },
  {
   "cell_type": "code",
   "execution_count": 413,
   "metadata": {
    "colab": {
     "base_uri": "https://localhost:8080/",
     "height": 209
    },
    "id": "HFPxkf0L9SFD",
    "outputId": "b8860051-281b-471f-ef34-732bb38bc257"
   },
   "outputs": [
    {
     "data": {
      "text/html": [
       "<div>\n",
       "<style scoped>\n",
       "    .dataframe tbody tr th:only-of-type {\n",
       "        vertical-align: middle;\n",
       "    }\n",
       "\n",
       "    .dataframe tbody tr th {\n",
       "        vertical-align: top;\n",
       "    }\n",
       "\n",
       "    .dataframe thead th {\n",
       "        text-align: right;\n",
       "    }\n",
       "</style>\n",
       "<table border=\"1\" class=\"dataframe\">\n",
       "  <thead>\n",
       "    <tr style=\"text-align: right;\">\n",
       "      <th></th>\n",
       "      <th>car_name</th>\n",
       "      <th>fuel_type</th>\n",
       "      <th>city</th>\n",
       "      <th>body_type</th>\n",
       "      <th>transmission</th>\n",
       "      <th>variant</th>\n",
       "      <th>registered_city</th>\n",
       "      <th>registered_state</th>\n",
       "      <th>rto</th>\n",
       "      <th>source</th>\n",
       "      <th>make</th>\n",
       "      <th>model</th>\n",
       "      <th>car_availability</th>\n",
       "      <th>car_rating</th>\n",
       "      <th>ad_created_on</th>\n",
       "    </tr>\n",
       "  </thead>\n",
       "  <tbody>\n",
       "    <tr>\n",
       "      <th>count</th>\n",
       "      <td>6399</td>\n",
       "      <td>6399</td>\n",
       "      <td>6399</td>\n",
       "      <td>6399</td>\n",
       "      <td>6399</td>\n",
       "      <td>6399</td>\n",
       "      <td>6399</td>\n",
       "      <td>6399</td>\n",
       "      <td>6399</td>\n",
       "      <td>6399</td>\n",
       "      <td>6399</td>\n",
       "      <td>6399</td>\n",
       "      <td>6399</td>\n",
       "      <td>6399</td>\n",
       "      <td>6399</td>\n",
       "    </tr>\n",
       "    <tr>\n",
       "      <th>unique</th>\n",
       "      <td>182</td>\n",
       "      <td>5</td>\n",
       "      <td>13</td>\n",
       "      <td>5</td>\n",
       "      <td>2</td>\n",
       "      <td>873</td>\n",
       "      <td>230</td>\n",
       "      <td>16</td>\n",
       "      <td>255</td>\n",
       "      <td>3</td>\n",
       "      <td>26</td>\n",
       "      <td>182</td>\n",
       "      <td>4</td>\n",
       "      <td>4</td>\n",
       "      <td>6398</td>\n",
       "    </tr>\n",
       "    <tr>\n",
       "      <th>top</th>\n",
       "      <td>maruti swift</td>\n",
       "      <td>petrol</td>\n",
       "      <td>mumbai</td>\n",
       "      <td>hatchback</td>\n",
       "      <td>manual</td>\n",
       "      <td>vxi</td>\n",
       "      <td>delhi</td>\n",
       "      <td>maharashtra</td>\n",
       "      <td>mh12</td>\n",
       "      <td>inperson_sale</td>\n",
       "      <td>maruti</td>\n",
       "      <td>swift</td>\n",
       "      <td>in_stock</td>\n",
       "      <td>great</td>\n",
       "      <td>2019-02-20T14:13:30.464</td>\n",
       "    </tr>\n",
       "    <tr>\n",
       "      <th>freq</th>\n",
       "      <td>478</td>\n",
       "      <td>4001</td>\n",
       "      <td>1144</td>\n",
       "      <td>3888</td>\n",
       "      <td>5855</td>\n",
       "      <td>573</td>\n",
       "      <td>840</td>\n",
       "      <td>1820</td>\n",
       "      <td>331</td>\n",
       "      <td>6018</td>\n",
       "      <td>2756</td>\n",
       "      <td>478</td>\n",
       "      <td>6146</td>\n",
       "      <td>5454</td>\n",
       "      <td>2</td>\n",
       "    </tr>\n",
       "  </tbody>\n",
       "</table>\n",
       "</div>"
      ],
      "text/plain": [
       "            car_name fuel_type  ... car_rating            ad_created_on\n",
       "count           6399      6399  ...       6399                     6399\n",
       "unique           182         5  ...          4                     6398\n",
       "top     maruti swift    petrol  ...      great  2019-02-20T14:13:30.464\n",
       "freq             478      4001  ...       5454                        2\n",
       "\n",
       "[4 rows x 15 columns]"
      ]
     },
     "execution_count": 413,
     "metadata": {
      "tags": []
     },
     "output_type": "execute_result"
    }
   ],
   "source": [
    "df1.describe(include='object') #description about categorical data"
   ]
  },
  {
   "cell_type": "code",
   "execution_count": 414,
   "metadata": {
    "colab": {
     "base_uri": "https://localhost:8080/",
     "height": 545
    },
    "id": "P5TKxP_oNDOb",
    "outputId": "9d24324b-0522-49a5-d946-5bb4401fa78a"
   },
   "outputs": [
    {
     "data": {
      "image/png": "[encoded data removed]",
      "text/plain": [
       "<Figure size 936x504 with 2 Axes>"
      ]
     },
     "metadata": {
      "needs_background": "light",
      "tags": []
     },
     "output_type": "display_data"
    }
   ],
   "source": [
    "#finding correlation again\n",
    "corr = df1.corr()\n",
    "sns.set_context(\"notebook\", font_scale=1.0, rc={\"lines.linewidth\": 2.5})\n",
    "plt.figure(figsize=(13,7))\n",
    "a = sns.heatmap(corr, annot=True, fmt='.2f')\n",
    "rotx = a.set_xticklabels(a.get_xticklabels(), rotation=90)\n",
    "roty = a.set_yticklabels(a.get_yticklabels(), rotation=30)"
   ]
  },
  {
   "cell_type": "markdown",
   "metadata": {
    "id": "tqLj4Tqcn9rA"
   },
   "source": [
    "#Handling Outliers"
   ]
  },
  {
   "cell_type": "code",
   "execution_count": 415,
   "metadata": {
    "colab": {
     "base_uri": "https://localhost:8080/",
     "height": 1000
    },
    "id": "6FjbLULRd7o5",
    "outputId": "05982e9a-5629-4a61-f67d-5aef0ad0484b"
   },
   "outputs": [
    {
     "data": {
      "image/png": "[encoded data removed]",
      "text/plain": [
       "<Figure size 432x288 with 1 Axes>"
      ]
     },
     "metadata": {
      "needs_background": "light",
      "tags": []
     },
     "output_type": "display_data"
    },
    {
     "data": {
      "image/png": "[encoded data removed]",
      "text/plain": [
       "<Figure size 432x288 with 1 Axes>"
      ]
     },
     "metadata": {
      "needs_background": "light",
      "tags": []
     },
     "output_type": "display_data"
    },
    {
     "data": {
      "image/png": "[encoded data removed]",
      "text/plain": [
       "<Figure size 432x288 with 1 Axes>"
      ]
     },
     "metadata": {
      "needs_background": "light",
      "tags": []
     },
     "output_type": "display_data"
    },
    {
     "data": {
      "image/png": "[encoded data removed]",
      "text/plain": [
       "<Figure size 432x288 with 1 Axes>"
      ]
     },
     "metadata": {
      "needs_background": "light",
      "tags": []
     },
     "output_type": "display_data"
    },
    {
     "data": {
      "image/png": "[encoded data removed]",
      "text/plain": [
       "<Figure size 432x288 with 1 Axes>"
      ]
     },
     "metadata": {
      "needs_background": "light",
      "tags": []
     },
     "output_type": "display_data"
    },
    {
     "data": {
      "image/png": "[encoded data removed]",
      "text/plain": [
       "<Figure size 432x288 with 1 Axes>"
      ]
     },
     "metadata": {
      "needs_background": "light",
      "tags": []
     },
     "output_type": "display_data"
    }
   ],
   "source": [
    "for i in integer_columns:\n",
    "  plt.figure()\n",
    "  sns.boxplot(x=df1[i])"
   ]
  },
  {
   "cell_type": "markdown",
   "metadata": {
    "id": "jFrQODmusy1Y"
   },
   "source": [
    "#We can observe from above boox plots we have to handle outliers in kms_run sale_price and times_viewed column \n",
    "#As sales_price and booking_down_pymnet are highly correlated handling one column will reflect on another"
   ]
  },
  {
   "cell_type": "markdown",
   "metadata": {
    "id": "uwW9dDvLtRpc"
   },
   "source": [
    "**Taking kms_run upto max value**"
   ]
  },
  {
   "cell_type": "code",
   "execution_count": 416,
   "metadata": {
    "colab": {
     "base_uri": "https://localhost:8080/"
    },
    "id": "lic1Batth4Kx",
    "outputId": "47bc17ce-f21d-43b4-bfdb-cb588516c4ef"
   },
   "outputs": [
    {
     "data": {
      "text/plain": [
       "996609"
      ]
     },
     "execution_count": 416,
     "metadata": {
      "tags": []
     },
     "output_type": "execute_result"
    }
   ],
   "source": [
    "max_km=df1['kms_run'].max()\n",
    "max_km"
   ]
  },
  {
   "cell_type": "code",
   "execution_count": 417,
   "metadata": {
    "colab": {
     "base_uri": "https://localhost:8080/"
    },
    "id": "AOkh6GqIiumJ",
    "outputId": "b9db4547-0b08-4d1b-cfa7-a7230d7593be"
   },
   "outputs": [
    {
     "data": {
      "text/plain": [
       "(6398, 26)"
      ]
     },
     "execution_count": 417,
     "metadata": {
      "tags": []
     },
     "output_type": "execute_result"
    }
   ],
   "source": [
    "df1=df1[df1['kms_run']<max_km]\n",
    "df1.shape"
   ]
  },
  {
   "cell_type": "markdown",
   "metadata": {
    "id": "mvsjWBP-tYek"
   },
   "source": [
    "**From boxplot observations we can take sales_price < 3000000 only**"
   ]
  },
  {
   "cell_type": "code",
   "execution_count": 429,
   "metadata": {
    "colab": {
     "base_uri": "https://localhost:8080/"
    },
    "id": "F4CUQsA9kCrS",
    "outputId": "76b5693f-71f4-4de2-df72-1378ff323164"
   },
   "outputs": [
    {
     "data": {
      "text/plain": [
       "(6390, 26)"
      ]
     },
     "execution_count": 429,
     "metadata": {
      "tags": []
     },
     "output_type": "execute_result"
    }
   ],
   "source": [
    "df1=df1[df1['sale_price']<3000000]\n",
    "df1.shape"
   ]
  },
  {
   "cell_type": "markdown",
   "metadata": {
    "id": "Cb95RoM5tjPb"
   },
   "source": [
    "**From boxplot observations we can take times_viewed < 30000 only**"
   ]
  },
  {
   "cell_type": "code",
   "execution_count": 418,
   "metadata": {
    "colab": {
     "base_uri": "https://localhost:8080/"
    },
    "id": "FZVnNp4-la-I",
    "outputId": "00fe2dc2-2720-4df8-ffbe-1860d927b007"
   },
   "outputs": [
    {
     "data": {
      "text/plain": [
       "(6392, 26)"
      ]
     },
     "execution_count": 418,
     "metadata": {
      "tags": []
     },
     "output_type": "execute_result"
    }
   ],
   "source": [
    "df1=df1[df1['times_viewed']<30000]\n",
    "df1.shape"
   ]
  },
  {
   "cell_type": "code",
   "execution_count": 432,
   "metadata": {
    "colab": {
     "base_uri": "https://localhost:8080/"
    },
    "id": "OndxU1kknXre",
    "outputId": "3a60d7ba-41a3-4db7-de26-fa4deab99b5f"
   },
   "outputs": [
    {
     "data": {
      "text/plain": [
       "387885"
      ]
     },
     "execution_count": 432,
     "metadata": {
      "tags": []
     },
     "output_type": "execute_result"
    }
   ],
   "source": [
    "data=df1['booking_down_pymnt'].max()\n",
    "data"
   ]
  },
  {
   "cell_type": "code",
   "execution_count": 433,
   "metadata": {
    "colab": {
     "base_uri": "https://localhost:8080/",
     "height": 536
    },
    "id": "rf0GOPs1ojCQ",
    "outputId": "7ddc79c7-9256-45cd-9405-9949d19e9dab"
   },
   "outputs": [
    {
     "data": {
      "text/plain": [
       "<matplotlib.axes._subplots.AxesSubplot at 0x7f04306dde10>"
      ]
     },
     "execution_count": 433,
     "metadata": {
      "tags": []
     },
     "output_type": "execute_result"
    },
    {
     "data": {
      "image/png": "[encoded data removed]",
      "text/plain": [
       "<Figure size 864x576 with 1 Axes>"
      ]
     },
     "metadata": {
      "needs_background": "light",
      "tags": []
     },
     "output_type": "display_data"
    }
   ],
   "source": [
    "plt.figure(figsize=(12,8))\n",
    "sns.set(rc={'axes.facecolor':'#283747','axes.grid': True,'xtick.labelsize':16})\n",
    "sns.lineplot(x='kms_run',y='sale_price',data=df1)"
   ]
  },
  {
   "cell_type": "code",
   "execution_count": 434,
   "metadata": {
    "colab": {
     "base_uri": "https://localhost:8080/",
     "height": 536
    },
    "id": "miFLSX8SosfQ",
    "outputId": "dbf9acda-8a74-4732-f3d2-818ebde4c6be"
   },
   "outputs": [
    {
     "data": {
      "text/plain": [
       "<matplotlib.axes._subplots.AxesSubplot at 0x7f043542a590>"
      ]
     },
     "execution_count": 434,
     "metadata": {
      "tags": []
     },
     "output_type": "execute_result"
    },
    {
     "data": {
      "image/png": "[encoded data removed]",
      "text/plain": [
       "<Figure size 864x576 with 1 Axes>"
      ]
     },
     "metadata": {
      "tags": []
     },
     "output_type": "display_data"
    }
   ],
   "source": [
    "plt.figure(figsize=(12,8))\n",
    "sns.set(rc={'axes.facecolor':'#283747','axes.grid': True,'xtick.labelsize':16})\n",
    "sns.lineplot(x='times_viewed',y='sale_price',data=df1)\n",
    "\n"
   ]
  },
  {
   "cell_type": "code",
   "execution_count": 437,
   "metadata": {
    "colab": {
     "base_uri": "https://localhost:8080/",
     "height": 536
    },
    "id": "gK57LHAco5GS",
    "outputId": "5c08a702-fe5e-4bca-b54e-b0c2d3931b47"
   },
   "outputs": [
    {
     "data": {
      "text/plain": [
       "<matplotlib.axes._subplots.AxesSubplot at 0x7f04307a4110>"
      ]
     },
     "execution_count": 437,
     "metadata": {
      "tags": []
     },
     "output_type": "execute_result"
    },
    {
     "data": {
      "image/png": "[encoded data removed]",
      "text/plain": [
       "<Figure size 864x576 with 1 Axes>"
      ]
     },
     "metadata": {
      "tags": []
     },
     "output_type": "display_data"
    }
   ],
   "source": [
    "plt.figure(figsize=(12,8))\n",
    "sns.set(rc={'axes.facecolor':'white','axes.grid': True,'xtick.labelsize':16})\n",
    "sns.lineplot(x='yr_mfr',y='sale_price',data=df1,hue='transmission')"
   ]
  },
  {
   "cell_type": "code",
   "execution_count": 445,
   "metadata": {
    "colab": {
     "base_uri": "https://localhost:8080/",
     "height": 536
    },
    "id": "72JOlhKLpXJk",
    "outputId": "33764f50-7067-451d-d3fa-83c3b44c1b67"
   },
   "outputs": [
    {
     "data": {
      "text/plain": [
       "<matplotlib.axes._subplots.AxesSubplot at 0x7f042df982d0>"
      ]
     },
     "execution_count": 445,
     "metadata": {
      "tags": []
     },
     "output_type": "execute_result"
    },
    {
     "data": {
      "image/png": "[encoded data removed]",
      "text/plain": [
       "<Figure size 864x576 with 1 Axes>"
      ]
     },
     "metadata": {
      "tags": []
     },
     "output_type": "display_data"
    }
   ],
   "source": [
    "plt.figure(figsize=(12,8))\n",
    "sns.set(rc={'axes.facecolor':'white','axes.grid': False,'xtick.labelsize':16})\n",
    "sns.lineplot(x='yr_mfr',y='sale_price',data=df,hue='body_type')"
   ]
  },
  {
   "cell_type": "code",
   "execution_count": 446,
   "metadata": {
    "colab": {
     "base_uri": "https://localhost:8080/",
     "height": 524
    },
    "id": "Ga0H3uuYptNR",
    "outputId": "17def1e9-d1b7-4775-b7c7-61f2332a18d4"
   },
   "outputs": [
    {
     "data": {
      "text/plain": [
       "<matplotlib.axes._subplots.AxesSubplot at 0x7f0433affed0>"
      ]
     },
     "execution_count": 446,
     "metadata": {
      "tags": []
     },
     "output_type": "execute_result"
    },
    {
     "data": {
      "image/png": "[encoded data removed]",
      "text/plain": [
       "<Figure size 864x576 with 1 Axes>"
      ]
     },
     "metadata": {
      "tags": []
     },
     "output_type": "display_data"
    }
   ],
   "source": [
    "plt.figure(figsize=(12,8))\n",
    "sns.set(rc={'axes.facecolor':'#283747','axes.grid': True,'xtick.labelsize':16})\n",
    "sns.lineplot(x='total_owners',y='sale_price',data=df,hue='transmission')"
   ]
  },
  {
   "cell_type": "code",
   "execution_count": 447,
   "metadata": {
    "colab": {
     "base_uri": "https://localhost:8080/",
     "height": 580
    },
    "id": "EOJrLnxSpy0m",
    "outputId": "a77beefd-c9f2-4fc3-8476-2a0a411284f0"
   },
   "outputs": [
    {
     "name": "stderr",
     "output_type": "stream",
     "text": [
      "/usr/local/lib/python3.7/dist-packages/seaborn/_decorators.py:43: FutureWarning: Pass the following variable as a keyword arg: x. From version 0.12, the only valid positional argument will be `data`, and passing other arguments without an explicit keyword will result in an error or misinterpretation.\n",
      "  FutureWarning\n"
     ]
    },
    {
     "data": {
      "text/plain": [
       "<matplotlib.axes._subplots.AxesSubplot at 0x7f042f329d10>"
      ]
     },
     "execution_count": 447,
     "metadata": {
      "tags": []
     },
     "output_type": "execute_result"
    },
    {
     "data": {
      "image/png": "[encoded data removed]",
      "text/plain": [
       "<Figure size 864x576 with 1 Axes>"
      ]
     },
     "metadata": {
      "tags": []
     },
     "output_type": "display_data"
    }
   ],
   "source": [
    "plt.figure(figsize=(12,8))\n",
    "sns.set(rc={'axes.facecolor':'#283747','axes.grid': True,'xtick.labelsize':16})\n",
    "sns.countplot(df['body_type'])"
   ]
  },
  {
   "cell_type": "code",
   "execution_count": 448,
   "metadata": {
    "colab": {
     "base_uri": "https://localhost:8080/",
     "height": 592
    },
    "id": "LxWDn7D2qEhC",
    "outputId": "cf3217f0-1981-40a0-f0b9-0457ba1075cc"
   },
   "outputs": [
    {
     "name": "stderr",
     "output_type": "stream",
     "text": [
      "/usr/local/lib/python3.7/dist-packages/seaborn/_decorators.py:43: FutureWarning: Pass the following variables as keyword args: x, y. From version 0.12, the only valid positional argument will be `data`, and passing other arguments without an explicit keyword will result in an error or misinterpretation.\n",
      "  FutureWarning\n"
     ]
    },
    {
     "data": {
      "text/plain": [
       "<matplotlib.axes._subplots.AxesSubplot at 0x7f042f685350>"
      ]
     },
     "execution_count": 448,
     "metadata": {
      "tags": []
     },
     "output_type": "execute_result"
    },
    {
     "data": {
      "image/png": "[encoded data removed]",
      "text/plain": [
       "<Figure size 864x576 with 1 Axes>"
      ]
     },
     "metadata": {
      "tags": []
     },
     "output_type": "display_data"
    }
   ],
   "source": [
    "plt.figure(figsize=(12,8))\n",
    "sns.set(rc={'axes.facecolor':'#283747','axes.grid': True,'xtick.labelsize':16})\n",
    "sns.barplot(df['body_type'],df['sale_price'])"
   ]
  },
  {
   "cell_type": "code",
   "execution_count": 449,
   "metadata": {
    "colab": {
     "base_uri": "https://localhost:8080/",
     "height": 580
    },
    "id": "uG5107QGqIZc",
    "outputId": "12bd1614-0682-4176-8b05-28db724a953d"
   },
   "outputs": [
    {
     "name": "stderr",
     "output_type": "stream",
     "text": [
      "/usr/local/lib/python3.7/dist-packages/seaborn/_decorators.py:43: FutureWarning: Pass the following variables as keyword args: x, y. From version 0.12, the only valid positional argument will be `data`, and passing other arguments without an explicit keyword will result in an error or misinterpretation.\n",
      "  FutureWarning\n"
     ]
    },
    {
     "data": {
      "text/plain": [
       "<matplotlib.axes._subplots.AxesSubplot at 0x7f0435b43c90>"
      ]
     },
     "execution_count": 449,
     "metadata": {
      "tags": []
     },
     "output_type": "execute_result"
    },
    {
     "data": {
      "image/png": "[encoded data removed]",
      "text/plain": [
       "<Figure size 864x576 with 1 Axes>"
      ]
     },
     "metadata": {
      "tags": []
     },
     "output_type": "display_data"
    }
   ],
   "source": [
    "plt.figure(figsize=(12,8))\n",
    "sns.set(rc={'axes.facecolor':'#283747','axes.grid': True,'xtick.labelsize':16})\n",
    "sns.barplot(df['transmission'],df['sale_price'])"
   ]
  },
  {
   "cell_type": "code",
   "execution_count": 450,
   "metadata": {
    "colab": {
     "base_uri": "https://localhost:8080/",
     "height": 662
    },
    "id": "wElny5V-qNJC",
    "outputId": "d1c42d81-5e3b-471f-839d-c444b3a7d2f1"
   },
   "outputs": [
    {
     "name": "stderr",
     "output_type": "stream",
     "text": [
      "/usr/local/lib/python3.7/dist-packages/seaborn/_decorators.py:43: FutureWarning: Pass the following variables as keyword args: x, y. From version 0.12, the only valid positional argument will be `data`, and passing other arguments without an explicit keyword will result in an error or misinterpretation.\n",
      "  FutureWarning\n"
     ]
    },
    {
     "data": {
      "text/plain": [
       "(array([ 0,  1,  2,  3,  4,  5,  6,  7,  8,  9, 10, 11, 12]),\n",
       " <a list of 13 Text major ticklabel objects>)"
      ]
     },
     "execution_count": 450,
     "metadata": {
      "tags": []
     },
     "output_type": "execute_result"
    },
    {
     "data": {
      "image/png": "[encoded data removed]",
      "text/plain": [
       "<Figure size 864x576 with 1 Axes>"
      ]
     },
     "metadata": {
      "tags": []
     },
     "output_type": "display_data"
    }
   ],
   "source": [
    "plt.figure(figsize=(12,8))\n",
    "sns.set(rc={'axes.facecolor':'#283747','axes.grid': True,'xtick.labelsize':16})\n",
    "sns.barplot(df['city'],df['sale_price'])\n",
    "plt.xticks(rotation=45)"
   ]
  },
  {
   "cell_type": "code",
   "execution_count": null,
   "metadata": {
    "id": "jVY7O2dvqws_"
   },
   "outputs": [],
   "source": [
    "sns.pairplot(df1,kind='kde')"
   ]
  },
  {
   "cell_type": "markdown",
   "metadata": {
    "id": "_BAPrQaMM-iD"
   },
   "source": [
    "#Loading Test Data"
   ]
  },
  {
   "cell_type": "code",
   "execution_count": 419,
   "metadata": {
    "id": "pVQTNF0rFZSq"
   },
   "outputs": [],
   "source": [
    "df_test=pd.read_csv('test.csv')"
   ]
  },
  {
   "cell_type": "code",
   "execution_count": 420,
   "metadata": {
    "colab": {
     "base_uri": "https://localhost:8080/"
    },
    "id": "v6YOFItqFsdR",
    "outputId": "9cfe59f9-fccf-4b90-8657-0e49cdf30155"
   },
   "outputs": [
    {
     "data": {
      "text/plain": [
       "(1000, 30)"
      ]
     },
     "execution_count": 420,
     "metadata": {
      "tags": []
     },
     "output_type": "execute_result"
    }
   ],
   "source": [
    "df_test.shape"
   ]
  },
  {
   "cell_type": "code",
   "execution_count": 421,
   "metadata": {
    "colab": {
     "base_uri": "https://localhost:8080/",
     "height": 342
    },
    "id": "ioprIIjWFuXK",
    "outputId": "7ce5b648-a335-4907-edcf-35bee330b920"
   },
   "outputs": [
    {
     "data": {
      "text/html": [
       "<div>\n",
       "<style scoped>\n",
       "    .dataframe tbody tr th:only-of-type {\n",
       "        vertical-align: middle;\n",
       "    }\n",
       "\n",
       "    .dataframe tbody tr th {\n",
       "        vertical-align: top;\n",
       "    }\n",
       "\n",
       "    .dataframe thead th {\n",
       "        text-align: right;\n",
       "    }\n",
       "</style>\n",
       "<table border=\"1\" class=\"dataframe\">\n",
       "  <thead>\n",
       "    <tr style=\"text-align: right;\">\n",
       "      <th></th>\n",
       "      <th>id</th>\n",
       "      <th>car_name</th>\n",
       "      <th>yr_mfr</th>\n",
       "      <th>fuel_type</th>\n",
       "      <th>kms_run</th>\n",
       "      <th>sale_price</th>\n",
       "      <th>city</th>\n",
       "      <th>times_viewed</th>\n",
       "      <th>body_type</th>\n",
       "      <th>transmission</th>\n",
       "      <th>variant</th>\n",
       "      <th>assured_buy</th>\n",
       "      <th>registered_city</th>\n",
       "      <th>registered_state</th>\n",
       "      <th>is_hot</th>\n",
       "      <th>rto</th>\n",
       "      <th>source</th>\n",
       "      <th>make</th>\n",
       "      <th>model</th>\n",
       "      <th>car_availability</th>\n",
       "      <th>total_owners</th>\n",
       "      <th>broker_quote</th>\n",
       "      <th>original_price</th>\n",
       "      <th>car_rating</th>\n",
       "      <th>ad_created_on</th>\n",
       "      <th>fitness_certificate</th>\n",
       "      <th>emi_starts_from</th>\n",
       "      <th>booking_down_pymnt</th>\n",
       "      <th>reserved</th>\n",
       "      <th>warranty_avail</th>\n",
       "    </tr>\n",
       "  </thead>\n",
       "  <tbody>\n",
       "    <tr>\n",
       "      <th>0</th>\n",
       "      <td>1</td>\n",
       "      <td>maruti swift dzire</td>\n",
       "      <td>2012</td>\n",
       "      <td>petrol</td>\n",
       "      <td>69029</td>\n",
       "      <td>364299</td>\n",
       "      <td>pune</td>\n",
       "      <td>2068</td>\n",
       "      <td>sedan</td>\n",
       "      <td>manual</td>\n",
       "      <td>vxi 1.2 bs iv</td>\n",
       "      <td>True</td>\n",
       "      <td>pune</td>\n",
       "      <td>maharashtra</td>\n",
       "      <td>True</td>\n",
       "      <td>mh12</td>\n",
       "      <td>inperson_sale</td>\n",
       "      <td>maruti</td>\n",
       "      <td>swift dzire</td>\n",
       "      <td>in_stock</td>\n",
       "      <td>3</td>\n",
       "      <td>363529</td>\n",
       "      <td>365029.0</td>\n",
       "      <td>great</td>\n",
       "      <td>2021-03-16T05:00:49.555</td>\n",
       "      <td>True</td>\n",
       "      <td>8462</td>\n",
       "      <td>54645</td>\n",
       "      <td>False</td>\n",
       "      <td>False</td>\n",
       "    </tr>\n",
       "    <tr>\n",
       "      <th>1</th>\n",
       "      <td>2</td>\n",
       "      <td>hyundai eon</td>\n",
       "      <td>2013</td>\n",
       "      <td>petrol</td>\n",
       "      <td>45721</td>\n",
       "      <td>216799</td>\n",
       "      <td>gurgaon</td>\n",
       "      <td>903</td>\n",
       "      <td>hatchback</td>\n",
       "      <td>manual</td>\n",
       "      <td>era plus</td>\n",
       "      <td>True</td>\n",
       "      <td>delhi</td>\n",
       "      <td>delhi</td>\n",
       "      <td>True</td>\n",
       "      <td>dl7c</td>\n",
       "      <td>inperson_sale</td>\n",
       "      <td>hyundai</td>\n",
       "      <td>eon</td>\n",
       "      <td>in_stock</td>\n",
       "      <td>1</td>\n",
       "      <td>205738</td>\n",
       "      <td>NaN</td>\n",
       "      <td>great</td>\n",
       "      <td>2021-03-10T12:08:11.905</td>\n",
       "      <td>True</td>\n",
       "      <td>5036</td>\n",
       "      <td>32520</td>\n",
       "      <td>False</td>\n",
       "      <td>False</td>\n",
       "    </tr>\n",
       "    <tr>\n",
       "      <th>2</th>\n",
       "      <td>3</td>\n",
       "      <td>honda amaze</td>\n",
       "      <td>2013</td>\n",
       "      <td>diesel</td>\n",
       "      <td>37395</td>\n",
       "      <td>387399</td>\n",
       "      <td>pune</td>\n",
       "      <td>2809</td>\n",
       "      <td>sedan</td>\n",
       "      <td>manual</td>\n",
       "      <td>1.5 smt i dtec</td>\n",
       "      <td>True</td>\n",
       "      <td>mumbai</td>\n",
       "      <td>maharashtra</td>\n",
       "      <td>True</td>\n",
       "      <td>mh02</td>\n",
       "      <td>inperson_sale</td>\n",
       "      <td>honda</td>\n",
       "      <td>amaze</td>\n",
       "      <td>in_stock</td>\n",
       "      <td>1</td>\n",
       "      <td>382667</td>\n",
       "      <td>NaN</td>\n",
       "      <td>great</td>\n",
       "      <td>2021-03-15T12:03:30.041</td>\n",
       "      <td>True</td>\n",
       "      <td>8998</td>\n",
       "      <td>58110</td>\n",
       "      <td>True</td>\n",
       "      <td>False</td>\n",
       "    </tr>\n",
       "    <tr>\n",
       "      <th>3</th>\n",
       "      <td>4</td>\n",
       "      <td>hyundai i20</td>\n",
       "      <td>2012</td>\n",
       "      <td>petrol</td>\n",
       "      <td>37652</td>\n",
       "      <td>364699</td>\n",
       "      <td>bengaluru</td>\n",
       "      <td>1054</td>\n",
       "      <td>hatchback</td>\n",
       "      <td>manual</td>\n",
       "      <td>magna o 1.2</td>\n",
       "      <td>True</td>\n",
       "      <td>bengaluru</td>\n",
       "      <td>karnataka</td>\n",
       "      <td>True</td>\n",
       "      <td>ka53</td>\n",
       "      <td>inperson_sale</td>\n",
       "      <td>hyundai</td>\n",
       "      <td>i20</td>\n",
       "      <td>in_transit</td>\n",
       "      <td>3</td>\n",
       "      <td>335740</td>\n",
       "      <td>NaN</td>\n",
       "      <td>great</td>\n",
       "      <td>2021-04-09T11:16:26.157</td>\n",
       "      <td>True</td>\n",
       "      <td>8471</td>\n",
       "      <td>54705</td>\n",
       "      <td>True</td>\n",
       "      <td>False</td>\n",
       "    </tr>\n",
       "    <tr>\n",
       "      <th>4</th>\n",
       "      <td>5</td>\n",
       "      <td>hyundai creta</td>\n",
       "      <td>2017</td>\n",
       "      <td>diesel</td>\n",
       "      <td>53648</td>\n",
       "      <td>1082011</td>\n",
       "      <td>lucknow</td>\n",
       "      <td>2927</td>\n",
       "      <td>suv</td>\n",
       "      <td>automatic</td>\n",
       "      <td>1.6 crdi sx plus auto</td>\n",
       "      <td>True</td>\n",
       "      <td>lucknow</td>\n",
       "      <td>uttar pradesh</td>\n",
       "      <td>True</td>\n",
       "      <td>up32</td>\n",
       "      <td>inperson_sale</td>\n",
       "      <td>hyundai</td>\n",
       "      <td>creta</td>\n",
       "      <td>in_stock</td>\n",
       "      <td>1</td>\n",
       "      <td>1119840</td>\n",
       "      <td>1125840.0</td>\n",
       "      <td>great</td>\n",
       "      <td>2021-04-01T07:24:31.712</td>\n",
       "      <td>True</td>\n",
       "      <td>25132</td>\n",
       "      <td>162302</td>\n",
       "      <td>False</td>\n",
       "      <td>False</td>\n",
       "    </tr>\n",
       "  </tbody>\n",
       "</table>\n",
       "</div>"
      ],
      "text/plain": [
       "   id            car_name  yr_mfr  ... booking_down_pymnt  reserved  warranty_avail\n",
       "0   1  maruti swift dzire    2012  ...              54645     False           False\n",
       "1   2         hyundai eon    2013  ...              32520     False           False\n",
       "2   3         honda amaze    2013  ...              58110      True           False\n",
       "3   4         hyundai i20    2012  ...              54705      True           False\n",
       "4   5       hyundai creta    2017  ...             162302     False           False\n",
       "\n",
       "[5 rows x 30 columns]"
      ]
     },
     "execution_count": 421,
     "metadata": {
      "tags": []
     },
     "output_type": "execute_result"
    }
   ],
   "source": [
    "df_test.head()"
   ]
  },
  {
   "cell_type": "code",
   "execution_count": 422,
   "metadata": {
    "colab": {
     "base_uri": "https://localhost:8080/"
    },
    "id": "5bbPkzbtL_gX",
    "outputId": "58bf4c68-23c0-47a3-daa0-b31473bebfaa"
   },
   "outputs": [
    {
     "data": {
      "text/plain": [
       "id                       0\n",
       "car_name                 0\n",
       "yr_mfr                   0\n",
       "fuel_type                0\n",
       "kms_run                  0\n",
       "sale_price               0\n",
       "city                     0\n",
       "times_viewed             0\n",
       "body_type               13\n",
       "transmission            82\n",
       "variant                  0\n",
       "assured_buy              0\n",
       "registered_city          2\n",
       "registered_state         2\n",
       "is_hot                   0\n",
       "rto                      0\n",
       "source                  12\n",
       "make                     0\n",
       "model                    0\n",
       "car_availability        78\n",
       "total_owners             0\n",
       "broker_quote             0\n",
       "original_price         455\n",
       "car_rating               2\n",
       "ad_created_on            0\n",
       "fitness_certificate      0\n",
       "emi_starts_from          0\n",
       "booking_down_pymnt       0\n",
       "reserved                 0\n",
       "warranty_avail           0\n",
       "dtype: int64"
      ]
     },
     "execution_count": 422,
     "metadata": {
      "tags": []
     },
     "output_type": "execute_result"
    }
   ],
   "source": [
    "df_test.isnull().sum()"
   ]
  },
  {
   "cell_type": "markdown",
   "metadata": {
    "id": "1EOD6XUXGJL_"
   },
   "source": [
    "#We removed some columns in train data so we have to remove them in test data also"
   ]
  },
  {
   "cell_type": "code",
   "execution_count": 423,
   "metadata": {
    "id": "TmElzBFJGIpz"
   },
   "outputs": [],
   "source": [
    "df_test1=remove(df_test)"
   ]
  },
  {
   "cell_type": "code",
   "execution_count": 424,
   "metadata": {
    "colab": {
     "base_uri": "https://localhost:8080/"
    },
    "id": "6QkGb2BYGmmb",
    "outputId": "cce27218-c3d2-4187-9bef-6fa40d007e3b"
   },
   "outputs": [
    {
     "data": {
      "text/plain": [
       "(1000, 26)"
      ]
     },
     "execution_count": 424,
     "metadata": {
      "tags": []
     },
     "output_type": "execute_result"
    }
   ],
   "source": [
    "df_test1.shape"
   ]
  },
  {
   "cell_type": "code",
   "execution_count": 425,
   "metadata": {
    "colab": {
     "base_uri": "https://localhost:8080/",
     "height": 342
    },
    "id": "EIIWPxG3Fxzn",
    "outputId": "76325521-5050-4dcd-af71-28a1cf26cdf8"
   },
   "outputs": [
    {
     "data": {
      "text/html": [
       "<div>\n",
       "<style scoped>\n",
       "    .dataframe tbody tr th:only-of-type {\n",
       "        vertical-align: middle;\n",
       "    }\n",
       "\n",
       "    .dataframe tbody tr th {\n",
       "        vertical-align: top;\n",
       "    }\n",
       "\n",
       "    .dataframe thead th {\n",
       "        text-align: right;\n",
       "    }\n",
       "</style>\n",
       "<table border=\"1\" class=\"dataframe\">\n",
       "  <thead>\n",
       "    <tr style=\"text-align: right;\">\n",
       "      <th></th>\n",
       "      <th>car_name</th>\n",
       "      <th>yr_mfr</th>\n",
       "      <th>fuel_type</th>\n",
       "      <th>kms_run</th>\n",
       "      <th>sale_price</th>\n",
       "      <th>city</th>\n",
       "      <th>times_viewed</th>\n",
       "      <th>body_type</th>\n",
       "      <th>transmission</th>\n",
       "      <th>variant</th>\n",
       "      <th>assured_buy</th>\n",
       "      <th>registered_city</th>\n",
       "      <th>registered_state</th>\n",
       "      <th>is_hot</th>\n",
       "      <th>rto</th>\n",
       "      <th>source</th>\n",
       "      <th>make</th>\n",
       "      <th>model</th>\n",
       "      <th>car_availability</th>\n",
       "      <th>total_owners</th>\n",
       "      <th>car_rating</th>\n",
       "      <th>ad_created_on</th>\n",
       "      <th>fitness_certificate</th>\n",
       "      <th>booking_down_pymnt</th>\n",
       "      <th>reserved</th>\n",
       "      <th>warranty_avail</th>\n",
       "    </tr>\n",
       "  </thead>\n",
       "  <tbody>\n",
       "    <tr>\n",
       "      <th>0</th>\n",
       "      <td>maruti swift dzire</td>\n",
       "      <td>2012</td>\n",
       "      <td>petrol</td>\n",
       "      <td>69029</td>\n",
       "      <td>364299</td>\n",
       "      <td>pune</td>\n",
       "      <td>2068</td>\n",
       "      <td>sedan</td>\n",
       "      <td>manual</td>\n",
       "      <td>vxi 1.2 bs iv</td>\n",
       "      <td>True</td>\n",
       "      <td>pune</td>\n",
       "      <td>maharashtra</td>\n",
       "      <td>True</td>\n",
       "      <td>mh12</td>\n",
       "      <td>inperson_sale</td>\n",
       "      <td>maruti</td>\n",
       "      <td>swift dzire</td>\n",
       "      <td>in_stock</td>\n",
       "      <td>3</td>\n",
       "      <td>great</td>\n",
       "      <td>2021-03-16T05:00:49.555</td>\n",
       "      <td>True</td>\n",
       "      <td>54645</td>\n",
       "      <td>False</td>\n",
       "      <td>False</td>\n",
       "    </tr>\n",
       "    <tr>\n",
       "      <th>1</th>\n",
       "      <td>hyundai eon</td>\n",
       "      <td>2013</td>\n",
       "      <td>petrol</td>\n",
       "      <td>45721</td>\n",
       "      <td>216799</td>\n",
       "      <td>gurgaon</td>\n",
       "      <td>903</td>\n",
       "      <td>hatchback</td>\n",
       "      <td>manual</td>\n",
       "      <td>era plus</td>\n",
       "      <td>True</td>\n",
       "      <td>delhi</td>\n",
       "      <td>delhi</td>\n",
       "      <td>True</td>\n",
       "      <td>dl7c</td>\n",
       "      <td>inperson_sale</td>\n",
       "      <td>hyundai</td>\n",
       "      <td>eon</td>\n",
       "      <td>in_stock</td>\n",
       "      <td>1</td>\n",
       "      <td>great</td>\n",
       "      <td>2021-03-10T12:08:11.905</td>\n",
       "      <td>True</td>\n",
       "      <td>32520</td>\n",
       "      <td>False</td>\n",
       "      <td>False</td>\n",
       "    </tr>\n",
       "    <tr>\n",
       "      <th>2</th>\n",
       "      <td>honda amaze</td>\n",
       "      <td>2013</td>\n",
       "      <td>diesel</td>\n",
       "      <td>37395</td>\n",
       "      <td>387399</td>\n",
       "      <td>pune</td>\n",
       "      <td>2809</td>\n",
       "      <td>sedan</td>\n",
       "      <td>manual</td>\n",
       "      <td>1.5 smt i dtec</td>\n",
       "      <td>True</td>\n",
       "      <td>mumbai</td>\n",
       "      <td>maharashtra</td>\n",
       "      <td>True</td>\n",
       "      <td>mh02</td>\n",
       "      <td>inperson_sale</td>\n",
       "      <td>honda</td>\n",
       "      <td>amaze</td>\n",
       "      <td>in_stock</td>\n",
       "      <td>1</td>\n",
       "      <td>great</td>\n",
       "      <td>2021-03-15T12:03:30.041</td>\n",
       "      <td>True</td>\n",
       "      <td>58110</td>\n",
       "      <td>True</td>\n",
       "      <td>False</td>\n",
       "    </tr>\n",
       "    <tr>\n",
       "      <th>3</th>\n",
       "      <td>hyundai i20</td>\n",
       "      <td>2012</td>\n",
       "      <td>petrol</td>\n",
       "      <td>37652</td>\n",
       "      <td>364699</td>\n",
       "      <td>bengaluru</td>\n",
       "      <td>1054</td>\n",
       "      <td>hatchback</td>\n",
       "      <td>manual</td>\n",
       "      <td>magna o 1.2</td>\n",
       "      <td>True</td>\n",
       "      <td>bengaluru</td>\n",
       "      <td>karnataka</td>\n",
       "      <td>True</td>\n",
       "      <td>ka53</td>\n",
       "      <td>inperson_sale</td>\n",
       "      <td>hyundai</td>\n",
       "      <td>i20</td>\n",
       "      <td>in_transit</td>\n",
       "      <td>3</td>\n",
       "      <td>great</td>\n",
       "      <td>2021-04-09T11:16:26.157</td>\n",
       "      <td>True</td>\n",
       "      <td>54705</td>\n",
       "      <td>True</td>\n",
       "      <td>False</td>\n",
       "    </tr>\n",
       "    <tr>\n",
       "      <th>4</th>\n",
       "      <td>hyundai creta</td>\n",
       "      <td>2017</td>\n",
       "      <td>diesel</td>\n",
       "      <td>53648</td>\n",
       "      <td>1082011</td>\n",
       "      <td>lucknow</td>\n",
       "      <td>2927</td>\n",
       "      <td>suv</td>\n",
       "      <td>automatic</td>\n",
       "      <td>1.6 crdi sx plus auto</td>\n",
       "      <td>True</td>\n",
       "      <td>lucknow</td>\n",
       "      <td>uttar pradesh</td>\n",
       "      <td>True</td>\n",
       "      <td>up32</td>\n",
       "      <td>inperson_sale</td>\n",
       "      <td>hyundai</td>\n",
       "      <td>creta</td>\n",
       "      <td>in_stock</td>\n",
       "      <td>1</td>\n",
       "      <td>great</td>\n",
       "      <td>2021-04-01T07:24:31.712</td>\n",
       "      <td>True</td>\n",
       "      <td>162302</td>\n",
       "      <td>False</td>\n",
       "      <td>False</td>\n",
       "    </tr>\n",
       "  </tbody>\n",
       "</table>\n",
       "</div>"
      ],
      "text/plain": [
       "             car_name  yr_mfr  ... reserved  warranty_avail\n",
       "0  maruti swift dzire    2012  ...    False           False\n",
       "1         hyundai eon    2013  ...    False           False\n",
       "2         honda amaze    2013  ...     True           False\n",
       "3         hyundai i20    2012  ...     True           False\n",
       "4       hyundai creta    2017  ...    False           False\n",
       "\n",
       "[5 rows x 26 columns]"
      ]
     },
     "execution_count": 425,
     "metadata": {
      "tags": []
     },
     "output_type": "execute_result"
    }
   ],
   "source": [
    "df_test1.head()"
   ]
  },
  {
   "cell_type": "markdown",
   "metadata": {
    "id": "MCmjU0RhuAVN"
   },
   "source": [
    "#Handling null values in test data"
   ]
  },
  {
   "cell_type": "code",
   "execution_count": 426,
   "metadata": {
    "id": "WLGJDlLfGFUa"
   },
   "outputs": [],
   "source": [
    "cateogry_columns=df_test1.select_dtypes(include=['object']).columns.tolist()\n",
    "integer_columns=df_test1.select_dtypes(include=['int64','float64']).columns.tolist()\n",
    "\n",
    "for column in df_test1:\n",
    "    if df_test1[column].isnull().any():\n",
    "        if(column in cateogry_columns):\n",
    "            df_test1[column]=df_test1[column].fillna(df_test1[column].mode()[0])\n",
    "        else:\n",
    "            df_test1[column]=df_test1[column].fillna(df_test1[column].mean)"
   ]
  },
  {
   "cell_type": "code",
   "execution_count": 427,
   "metadata": {
    "colab": {
     "base_uri": "https://localhost:8080/"
    },
    "id": "dLsL_UFKImRi",
    "outputId": "a9cd7ef2-7e0e-492e-e359-267193439633"
   },
   "outputs": [
    {
     "data": {
      "text/plain": [
       "car_name               0\n",
       "yr_mfr                 0\n",
       "fuel_type              0\n",
       "kms_run                0\n",
       "sale_price             0\n",
       "city                   0\n",
       "times_viewed           0\n",
       "body_type              0\n",
       "transmission           0\n",
       "variant                0\n",
       "assured_buy            0\n",
       "registered_city        0\n",
       "registered_state       0\n",
       "is_hot                 0\n",
       "rto                    0\n",
       "source                 0\n",
       "make                   0\n",
       "model                  0\n",
       "car_availability       0\n",
       "total_owners           0\n",
       "car_rating             0\n",
       "ad_created_on          0\n",
       "fitness_certificate    0\n",
       "booking_down_pymnt     0\n",
       "reserved               0\n",
       "warranty_avail         0\n",
       "dtype: int64"
      ]
     },
     "execution_count": 427,
     "metadata": {
      "tags": []
     },
     "output_type": "execute_result"
    }
   ],
   "source": [
    "df_test1.isnull().sum()"
   ]
  },
  {
   "cell_type": "code",
   "execution_count": 428,
   "metadata": {
    "id": "clt4c2J0Kgci"
   },
   "outputs": [],
   "source": []
  }
 ],
 "metadata": {
  "colab": {
   "collapsed_sections": [],
   "name": "Old_cars_price_prediction.ipynb",
   "provenance": []
  },
  "kernelspec": {
   "display_name": "Python 3",
   "language": "python",
   "name": "python3"
  },
  "language_info": {
   "codemirror_mode": {
    "name": "ipython",
    "version": 3
   },
   "file_extension": ".py",
   "mimetype": "text/x-python",
   "name": "python",
   "nbconvert_exporter": "python",
   "pygments_lexer": "ipython3",
   "version": "3.7.6"
  }
 },
 "nbformat": 4,
 "nbformat_minor": 1
}
